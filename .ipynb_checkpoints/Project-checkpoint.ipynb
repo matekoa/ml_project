{
 "cells": [
  {
   "cell_type": "code",
   "execution_count": 24,
   "id": "c199ea52",
   "metadata": {},
   "outputs": [],
   "source": [
    "import os\n",
    "import numpy as np\n",
    "import cv2\n",
    "from sklearn.model_selection import train_test_split\n",
    "from sklearn.preprocessing import LabelEncoder\n",
    "from keras.utils import to_categorical\n",
    "from keras.models import Sequential\n",
    "from keras.layers import Conv2D, MaxPooling2D, Flatten, Dense, ReLU\n",
    "import keras"
   ]
  },
  {
   "cell_type": "code",
   "execution_count": 29,
   "id": "964a048e",
   "metadata": {},
   "outputs": [
    {
     "name": "stdout",
     "output_type": "stream",
     "text": [
      "Epoch 1/10\n",
      "235/235 [==============================] - 9s 31ms/step - loss: 3.9602 - accuracy: 0.5216 - val_loss: 0.5459 - val_accuracy: 0.8076\n",
      "Epoch 2/10\n",
      "235/235 [==============================] - 7s 32ms/step - loss: 0.3235 - accuracy: 0.8801 - val_loss: 0.2302 - val_accuracy: 0.9196\n",
      "Epoch 3/10\n",
      "235/235 [==============================] - 7s 29ms/step - loss: 0.1590 - accuracy: 0.9433 - val_loss: 0.1607 - val_accuracy: 0.9516\n",
      "Epoch 4/10\n",
      "235/235 [==============================] - 7s 30ms/step - loss: 0.0797 - accuracy: 0.9705 - val_loss: 0.1422 - val_accuracy: 0.9472\n",
      "Epoch 5/10\n",
      "235/235 [==============================] - 7s 30ms/step - loss: 0.0560 - accuracy: 0.9797 - val_loss: 0.1501 - val_accuracy: 0.9540\n",
      "Epoch 6/10\n",
      "235/235 [==============================] - 8s 32ms/step - loss: 0.0332 - accuracy: 0.9881 - val_loss: 0.1953 - val_accuracy: 0.9436\n",
      "Epoch 7/10\n",
      "235/235 [==============================] - 7s 30ms/step - loss: 0.0326 - accuracy: 0.9881 - val_loss: 0.1356 - val_accuracy: 0.9544\n",
      "Epoch 8/10\n",
      "235/235 [==============================] - 8s 34ms/step - loss: 0.0212 - accuracy: 0.9928 - val_loss: 0.1347 - val_accuracy: 0.9620\n",
      "Epoch 9/10\n",
      "235/235 [==============================] - 9s 38ms/step - loss: 0.0401 - accuracy: 0.9851 - val_loss: 0.1132 - val_accuracy: 0.9700\n",
      "Epoch 10/10\n",
      "235/235 [==============================] - 8s 36ms/step - loss: 0.0189 - accuracy: 0.9935 - val_loss: 0.1038 - val_accuracy: 0.9700\n"
     ]
    },
    {
     "data": {
      "text/plain": [
       "<keras.callbacks.History at 0x1ee51d5f850>"
      ]
     },
     "execution_count": 29,
     "metadata": {},
     "output_type": "execute_result"
    }
   ],
   "source": [
    "\n",
    "\n",
    "#Set the path to your train dataset directory\n",
    "dataset_path = './dataset/train'\n",
    "\n",
    "# Define the image size for resizing\n",
    "image_size = (32, 32)\n",
    "\n",
    "# Load and preprocess the dataset\n",
    "X_train = []\n",
    "y_train = []\n",
    "\n",
    "# Iterate through the shape directories in the dataset path\n",
    "for shape_dir in os.listdir(dataset_path):\n",
    "    shape_path = os.path.join(dataset_path, shape_dir)\n",
    "    if os.path.isdir(shape_path):\n",
    "        # Iterate through the images in each shape directory\n",
    "        for image_file in os.listdir(shape_path):\n",
    "            image_path = os.path.join(shape_path, image_file)\n",
    "            if image_path.endswith('.jpg'):\n",
    "                # Load the image and resize it to the desired size\n",
    "                image = cv2.imread(image_path)\n",
    "                image = cv2.resize(image, image_size)\n",
    "\n",
    "                # Append the preprocessed image and corresponding label\n",
    "                X_train.append(image)\n",
    "                y_train.append(shape_dir)\n",
    "\n",
    "# Convert the image data and labels to NumPy arrays\n",
    "X_train = np.array(X_train)\n",
    "y_train = np.array(y_train)\n",
    "\n",
    "classes = np.unique(y_train)\n",
    "\n",
    "#Set the path to your test dataset directory\n",
    "dataset_path = './dataset/test'\n",
    "\n",
    "# Load and preprocess the dataset\n",
    "X_test = []\n",
    "y_test = []\n",
    "\n",
    "# Iterate through the shape directories in the dataset path\n",
    "for shape_dir in os.listdir(dataset_path):\n",
    "    shape_path = os.path.join(dataset_path, shape_dir)\n",
    "    if os.path.isdir(shape_path):\n",
    "        # Iterate through the images in each shape directory\n",
    "        for image_file in os.listdir(shape_path):\n",
    "            image_path = os.path.join(shape_path, image_file)\n",
    "            if image_path.endswith('.jpg'):\n",
    "                # Load the image and resize it to the desired size\n",
    "                image = cv2.imread(image_path)\n",
    "                image = cv2.resize(image, image_size)\n",
    "\n",
    "                # Append the preprocessed image and corresponding label\n",
    "                X_test.append(image)\n",
    "                y_test.append(shape_dir)\n",
    "\n",
    "# Convert the image data and labels to NumPy arrays\n",
    "X_test = np.array(X_test)\n",
    "y_test = np.array(y_test)\n",
    "\n",
    "# Perform train-test split: This has already been done in the dataset\n",
    "#X_train, X_test, y_train, y_test = train_test_split(X_data, y_data, test_size=0.2, random_state=42)\n",
    "\n",
    "#Set the path to your Validation dataset directory\n",
    "dataset_path = './dataset/val'\n",
    "\n",
    "# Load and preprocess the dataset\n",
    "X_val = []\n",
    "y_val = []\n",
    "\n",
    "# Iterate through the shape directories in the dataset path\n",
    "for shape_dir in os.listdir(dataset_path):\n",
    "    shape_path = os.path.join(dataset_path, shape_dir)\n",
    "    if os.path.isdir(shape_path):\n",
    "        # Iterate through the images in each shape directory\n",
    "        for image_file in os.listdir(shape_path):\n",
    "            image_path = os.path.join(shape_path, image_file)\n",
    "            if image_path.endswith('.jpg'):\n",
    "                # Load the image and resize it to the desired size\n",
    "                image = cv2.imread(image_path)\n",
    "                image = cv2.resize(image, image_size)\n",
    "\n",
    "                # Append the preprocessed image and corresponding label\n",
    "                X_val.append(image)\n",
    "                y_val.append(shape_dir)\n",
    "\n",
    "# Convert the image data and labels to NumPy arrays\n",
    "X_val = np.array(X_val)\n",
    "y_val = np.array(y_val)\n",
    "\n",
    "\n",
    "# Encode the shape labels into numerical values\n",
    "label_encoder = LabelEncoder()\n",
    "y_train_encoded = label_encoder.fit_transform(y_train)\n",
    "y_val_encoded = label_encoder.transform(y_val)\n",
    "y_test_encoded = label_encoder.transform(y_test)\n",
    "\n",
    "# Convert the numerical labels to one-hot encoded vectors\n",
    "num_classes = len(label_encoder.classes_)\n",
    "y_train_one_hot = to_categorical(y_train_encoded, num_classes)\n",
    "y_val_one_hot = to_categorical(y_val_encoded, num_classes)\n",
    "y_test_one_hot = to_categorical(y_test_encoded, num_classes)\n",
    "\n",
    "# Create the CNN model\n",
    "model = Sequential()\n",
    "model.add(Conv2D(32, (3, 3), activation='relu', input_shape=(image_size[0], image_size[1], 3)))\n",
    "model.add(MaxPooling2D((2, 2)))\n",
    "model.add(Conv2D(64, (3, 3), activation='relu'))\n",
    "model.add(MaxPooling2D((2, 2)))\n",
    "model.add(Flatten())\n",
    "model.add(Dense(64))\n",
    "model.add(ReLU())\n",
    "model.add(Dense(num_classes, activation='softmax'))\n",
    "\n",
    "# Compile the model\n",
    "model.compile(optimizer='adam', loss='categorical_crossentropy', metrics=['accuracy'])\n",
    "\n",
    "# Train the model\n",
    "model.fit(X_train, y_train_one_hot, epochs=10, batch_size=32, validation_data=(X_val, y_val_one_hot))\n"
   ]
  },
  {
   "cell_type": "markdown",
   "id": "b872b343",
   "metadata": {},
   "source": [
    "# Check Predicted Shape"
   ]
  },
  {
   "cell_type": "code",
   "execution_count": 16,
   "id": "4cd1a7f3",
   "metadata": {},
   "outputs": [
    {
     "name": "stdout",
     "output_type": "stream",
     "text": [
      "./dataset/new/newshape1.jpg\n",
      "1/1 [==============================] - 0s 22ms/step\n",
      "Predicted shape: ['triangle']\n",
      "./dataset/new/newshape2.jpg\n",
      "1/1 [==============================] - 0s 21ms/step\n",
      "Predicted shape: ['circle']\n",
      "./dataset/new/newshape3.jpg\n",
      "1/1 [==============================] - 0s 19ms/step\n",
      "Predicted shape: ['trapezoid']\n",
      "./dataset/new/newshape4.jpg\n",
      "1/1 [==============================] - 0s 21ms/step\n",
      "Predicted shape: ['trapezoid']\n",
      "./dataset/new/newshape5.jpg\n",
      "1/1 [==============================] - 0s 26ms/step\n",
      "Predicted shape: ['rectangle']\n",
      "./dataset/new/newshape6.jpg\n",
      "1/1 [==============================] - 0s 28ms/step\n",
      "Predicted shape: ['triangle']\n",
      "./dataset/new/newshape7.jpg\n",
      "1/1 [==============================] - 0s 25ms/step\n",
      "Predicted shape: ['trapezoid']\n",
      "./dataset/new/newshape8.jpg\n",
      "1/1 [==============================] - 0s 24ms/step\n",
      "Predicted shape: ['triangle']\n",
      "./dataset/new/newshape9.jpg\n",
      "1/1 [==============================] - 0s 22ms/step\n",
      "Predicted shape: ['rectangle']\n",
      "./dataset/new/newshape10.jpg\n",
      "1/1 [==============================] - 0s 19ms/step\n",
      "Predicted shape: ['circle']\n"
     ]
    }
   ],
   "source": [
    "#Set the path to your test dataset directory\n",
    "image_path = './dataset/new/'\n",
    "predicted_labels = []\n",
    "# Define a new data point to classify\n",
    "for i in range(10):\n",
    "    j = i+1\n",
    "    temp = os.path.join(image_path, 'newshape' +str(j)+'.jpg') #Current Image\n",
    "    print(temp)\n",
    "    \n",
    "    new_data = np.array([cv2.resize(cv2.imread(temp), image_size)])\n",
    "\n",
    "    # Predict the label for the new data point\n",
    "    predicted_probabilities = model.predict(new_data)\n",
    "    predicted_labels.append(label_encoder.inverse_transform(np.argmax(predicted_probabilities, axis=1)))\n",
    "\n",
    "# Iterate over the predicted labels\n",
    "for predicted_label in predicted_labels:\n",
    "    # Check if the predicted label exists in the list of available classes\n",
    "    if predicted_label in classes:\n",
    "        # Print the predicted label if it exists in the classes list\n",
    "        print(\"Predicted label:\", predicted_label)\n",
    "    else:\n",
    "        # Print \"unmatched\" if the predicted label does not match any class\n",
    "        print(\"Unmatched\")"
   ]
  },
  {
   "cell_type": "code",
   "execution_count": null,
   "id": "c760082c",
   "metadata": {},
   "outputs": [],
   "source": []
  },
  {
   "cell_type": "code",
   "execution_count": 3,
   "id": "03c373b7",
   "metadata": {},
   "outputs": [
    {
     "name": "stdout",
     "output_type": "stream",
     "text": [
      "79/79 [==============================] - 1s 7ms/step - loss: 0.1247 - accuracy: 0.9628\n",
      "Accuracy: 0.9628000259399414\n"
     ]
    }
   ],
   "source": [
    "# Evaluate the model on the test data\n",
    "loss, accuracy = model.evaluate(X_test, y_test_one_hot)\n",
    "\n",
    "# Print the accuracy\n",
    "print(\"Accuracy:\", accuracy)"
   ]
  },
  {
   "cell_type": "markdown",
   "id": "44c9cefa",
   "metadata": {},
   "source": [
    "# Training Model Using A Sigmoid Activation In The Output Layer"
   ]
  },
  {
   "cell_type": "code",
   "execution_count": 17,
   "id": "d3bfbc2d",
   "metadata": {},
   "outputs": [
    {
     "name": "stdout",
     "output_type": "stream",
     "text": [
      "Epoch 1/10\n",
      "235/235 [==============================] - 8s 28ms/step - loss: 5.4357 - accuracy: 0.5752 - val_loss: 0.4412 - val_accuracy: 0.8440\n",
      "Epoch 2/10\n",
      "235/235 [==============================] - 6s 25ms/step - loss: 0.3061 - accuracy: 0.8913 - val_loss: 0.2509 - val_accuracy: 0.9100\n",
      "Epoch 3/10\n",
      "235/235 [==============================] - 6s 25ms/step - loss: 0.1574 - accuracy: 0.9477 - val_loss: 0.1478 - val_accuracy: 0.9480\n",
      "Epoch 4/10\n",
      "235/235 [==============================] - 7s 30ms/step - loss: 0.0882 - accuracy: 0.9692 - val_loss: 0.1206 - val_accuracy: 0.9532\n",
      "Epoch 5/10\n",
      "235/235 [==============================] - 7s 31ms/step - loss: 0.0683 - accuracy: 0.9784 - val_loss: 0.1307 - val_accuracy: 0.9560\n",
      "Epoch 6/10\n",
      "235/235 [==============================] - 7s 29ms/step - loss: 0.0637 - accuracy: 0.9777 - val_loss: 0.1082 - val_accuracy: 0.9584\n",
      "Epoch 7/10\n",
      "235/235 [==============================] - 7s 30ms/step - loss: 0.0391 - accuracy: 0.9869 - val_loss: 0.1101 - val_accuracy: 0.9656\n",
      "Epoch 8/10\n",
      "235/235 [==============================] - 7s 30ms/step - loss: 0.0469 - accuracy: 0.9829 - val_loss: 0.2800 - val_accuracy: 0.9184\n",
      "Epoch 9/10\n",
      "235/235 [==============================] - 7s 29ms/step - loss: 0.0415 - accuracy: 0.9849 - val_loss: 0.1299 - val_accuracy: 0.9680\n",
      "Epoch 10/10\n",
      "235/235 [==============================] - 7s 30ms/step - loss: 0.0175 - accuracy: 0.9941 - val_loss: 0.1304 - val_accuracy: 0.9652\n"
     ]
    },
    {
     "data": {
      "text/plain": [
       "<keras.callbacks.History at 0x1ee4e7e6d90>"
      ]
     },
     "execution_count": 17,
     "metadata": {},
     "output_type": "execute_result"
    }
   ],
   "source": [
    "# Create the CNN model\n",
    "model = Sequential()\n",
    "model.add(Conv2D(32, (3, 3), activation='relu', input_shape=(image_size[0], image_size[1], 3)))\n",
    "model.add(MaxPooling2D((2, 2)))\n",
    "model.add(Conv2D(64, (3, 3), activation='relu'))\n",
    "model.add(MaxPooling2D((2, 2)))\n",
    "model.add(Flatten())\n",
    "model.add(Dense(64))\n",
    "model.add(ReLU())\n",
    "model.add(Dense(num_classes, activation='sigmoid'))\n",
    "\n",
    "# Compile the model\n",
    "model.compile(optimizer='adam', loss='categorical_crossentropy', metrics=['accuracy'])\n",
    "\n",
    "# Train the model\n",
    "model.fit(X_train, y_train_one_hot, epochs=10, batch_size=32, validation_data=(X_val, y_val_one_hot))"
   ]
  },
  {
   "cell_type": "code",
   "execution_count": 19,
   "id": "fd5e4e56",
   "metadata": {},
   "outputs": [
    {
     "name": "stdout",
     "output_type": "stream",
     "text": [
      "./dataset/new/newshape1.jpg\n",
      "1/1 [==============================] - 0s 20ms/step\n",
      "Predicted shape: ['trapezoid']\n",
      "./dataset/new/newshape2.jpg\n",
      "1/1 [==============================] - 0s 30ms/step\n",
      "Predicted shape: ['circle']\n",
      "./dataset/new/newshape3.jpg\n",
      "1/1 [==============================] - 0s 29ms/step\n",
      "Predicted shape: ['trapezoid']\n",
      "./dataset/new/newshape4.jpg\n",
      "1/1 [==============================] - 0s 28ms/step\n",
      "Predicted shape: ['parallelogram']\n",
      "./dataset/new/newshape5.jpg\n",
      "1/1 [==============================] - 0s 23ms/step\n",
      "Predicted shape: ['rectangle']\n",
      "./dataset/new/newshape6.jpg\n",
      "1/1 [==============================] - 0s 20ms/step\n",
      "Predicted shape: ['rectangle']\n",
      "./dataset/new/newshape7.jpg\n",
      "1/1 [==============================] - 0s 30ms/step\n",
      "Predicted shape: ['trapezoid']\n",
      "./dataset/new/newshape8.jpg\n",
      "1/1 [==============================] - 0s 38ms/step\n",
      "Predicted shape: ['triangle']\n",
      "./dataset/new/newshape9.jpg\n",
      "1/1 [==============================] - 0s 17ms/step\n",
      "Predicted shape: ['rectangle']\n",
      "./dataset/new/newshape10.jpg\n",
      "1/1 [==============================] - 0s 36ms/step\n",
      "Predicted shape: ['circle']\n"
     ]
    }
   ],
   "source": [
    "predicted_labels = []\n",
    "# Define a new data point to classify\n",
    "for i in range(10):\n",
    "    j = i+1\n",
    "    temp = os.path.join(image_path, 'newshape' +str(j)+'.jpg') #Current Image\n",
    "    print(temp)\n",
    "    \n",
    "    new_data = np.array([cv2.resize(cv2.imread(temp), image_size)])\n",
    "\n",
    "    # Predict the label for the new data point\n",
    "    predicted_probabilities = model.predict(new_data)\n",
    "    predicted_labels.append(label_encoder.inverse_transform(np.argmax(predicted_probabilities, axis=1)))\n",
    "\n",
    "# Iterate over the predicted labels\n",
    "for predicted_label in predicted_labels:\n",
    "    # Check if the predicted label exists in the list of available classes\n",
    "    if predicted_label in classes:\n",
    "        # Print the predicted label if it exists in the classes list\n",
    "        print(\"Predicted label:\", predicted_label)\n",
    "    else:\n",
    "        # Print \"unmatched\" if the predicted label does not match any class\n",
    "        print(\"Unmatched\")"
   ]
  },
  {
   "cell_type": "code",
   "execution_count": 20,
   "id": "592e10ae",
   "metadata": {},
   "outputs": [
    {
     "name": "stdout",
     "output_type": "stream",
     "text": [
      "79/79 [==============================] - 1s 8ms/step - loss: 0.1966 - accuracy: 0.9524\n",
      "Accuracy: 0.9524000287055969\n"
     ]
    }
   ],
   "source": [
    "# Evaluate the model on the test data\n",
    "loss, accuracy = model.evaluate(X_test, y_test_one_hot)\n",
    "\n",
    "# Print the accuracy\n",
    "print(\"Accuracy:\", accuracy)"
   ]
  },
  {
   "cell_type": "markdown",
   "id": "088fa535",
   "metadata": {},
   "source": [
    "# Training Model Using A Sigmoid Activation In The Hidden Layer And Softmax In Output"
   ]
  },
  {
   "cell_type": "markdown",
   "id": "22bd955c",
   "metadata": {},
   "source": [
    "The optimizer learning rate is changed."
   ]
  },
  {
   "cell_type": "code",
   "execution_count": 26,
   "id": "196d6199",
   "metadata": {},
   "outputs": [
    {
     "name": "stdout",
     "output_type": "stream",
     "text": [
      "Epoch 1/10\n",
      "235/235 [==============================] - 7s 25ms/step - loss: 1.5345 - accuracy: 0.3107 - val_loss: 1.4569 - val_accuracy: 0.3548\n",
      "Epoch 2/10\n",
      "235/235 [==============================] - 6s 27ms/step - loss: 1.4646 - accuracy: 0.3673 - val_loss: 1.3918 - val_accuracy: 0.4776\n",
      "Epoch 3/10\n",
      "235/235 [==============================] - 7s 29ms/step - loss: 1.1666 - accuracy: 0.5381 - val_loss: 1.0695 - val_accuracy: 0.5736\n",
      "Epoch 4/10\n",
      "235/235 [==============================] - 7s 30ms/step - loss: 0.8419 - accuracy: 0.6869 - val_loss: 0.6553 - val_accuracy: 0.7552\n",
      "Epoch 5/10\n",
      "235/235 [==============================] - 7s 29ms/step - loss: 0.5424 - accuracy: 0.8037 - val_loss: 0.4602 - val_accuracy: 0.8324\n",
      "Epoch 6/10\n",
      "235/235 [==============================] - 7s 29ms/step - loss: 0.4066 - accuracy: 0.8552 - val_loss: 0.4110 - val_accuracy: 0.8424\n",
      "Epoch 7/10\n",
      "235/235 [==============================] - 7s 29ms/step - loss: 0.3256 - accuracy: 0.8816 - val_loss: 0.3677 - val_accuracy: 0.8708\n",
      "Epoch 8/10\n",
      "235/235 [==============================] - 7s 29ms/step - loss: 0.2602 - accuracy: 0.9148 - val_loss: 0.2357 - val_accuracy: 0.9176\n",
      "Epoch 9/10\n",
      "235/235 [==============================] - 7s 30ms/step - loss: 0.1971 - accuracy: 0.9381 - val_loss: 0.2128 - val_accuracy: 0.9260\n",
      "Epoch 10/10\n",
      "235/235 [==============================] - 7s 31ms/step - loss: 0.1578 - accuracy: 0.9500 - val_loss: 0.1786 - val_accuracy: 0.9352\n"
     ]
    },
    {
     "data": {
      "text/plain": [
       "<keras.callbacks.History at 0x1ee51c4ac10>"
      ]
     },
     "execution_count": 26,
     "metadata": {},
     "output_type": "execute_result"
    }
   ],
   "source": [
    "# Create the CNN model\n",
    "model = Sequential()\n",
    "model.add(Conv2D(32, (3, 3), activation='relu', input_shape=(image_size[0], image_size[1], 3)))\n",
    "model.add(MaxPooling2D((2, 2)))\n",
    "model.add(Conv2D(64, (3, 3), activation='sigmoid'))\n",
    "model.add(MaxPooling2D((2, 2)))\n",
    "model.add(Flatten())\n",
    "model.add(Dense(64))\n",
    "model.add(ReLU())\n",
    "model.add(Dense(num_classes, activation='softmax'))\n",
    "\n",
    "# Compile the model\n",
    "opt = keras.optimizers.Adam(learning_rate=0.001)\n",
    "model.compile(optimizer=opt, loss='categorical_crossentropy', metrics=['accuracy'])\n",
    "\n",
    "# Train the model\n",
    "model.fit(X_train, y_train_one_hot, epochs=10, batch_size=32, validation_data=(X_val, y_val_one_hot))"
   ]
  },
  {
   "cell_type": "code",
   "execution_count": 27,
   "id": "918c55a9",
   "metadata": {},
   "outputs": [
    {
     "name": "stdout",
     "output_type": "stream",
     "text": [
      "./dataset/new/newshape1.jpg\n",
      "1/1 [==============================] - 0s 110ms/step\n",
      "Predicted shape: ['triangle']\n",
      "./dataset/new/newshape2.jpg\n",
      "1/1 [==============================] - 0s 28ms/step\n",
      "Predicted shape: ['circle']\n",
      "./dataset/new/newshape3.jpg\n",
      "1/1 [==============================] - 0s 26ms/step\n",
      "Predicted shape: ['parallelogram']\n",
      "./dataset/new/newshape4.jpg\n",
      "1/1 [==============================] - 0s 22ms/step\n",
      "Predicted shape: ['trapezoid']\n",
      "./dataset/new/newshape5.jpg\n",
      "1/1 [==============================] - 0s 22ms/step\n",
      "Predicted shape: ['rectangle']\n",
      "./dataset/new/newshape6.jpg\n",
      "1/1 [==============================] - 0s 27ms/step\n",
      "Predicted shape: ['triangle']\n",
      "./dataset/new/newshape7.jpg\n",
      "1/1 [==============================] - 0s 34ms/step\n",
      "Predicted shape: ['parallelogram']\n",
      "./dataset/new/newshape8.jpg\n",
      "1/1 [==============================] - 0s 22ms/step\n",
      "Predicted shape: ['triangle']\n",
      "./dataset/new/newshape9.jpg\n",
      "1/1 [==============================] - 0s 24ms/step\n",
      "Predicted shape: ['rectangle']\n",
      "./dataset/new/newshape10.jpg\n",
      "1/1 [==============================] - 0s 40ms/step\n",
      "Predicted shape: ['circle']\n"
     ]
    }
   ],
   "source": [
    "predicted_labels = []\n",
    "# Define a new data point to classify\n",
    "for i in range(10):\n",
    "    j = i+1\n",
    "    temp = os.path.join(image_path, 'newshape' +str(j)+'.jpg') #Current Image\n",
    "    print(temp)\n",
    "    \n",
    "    new_data = np.array([cv2.resize(cv2.imread(temp), image_size)])\n",
    "\n",
    "    # Predict the label for the new data point\n",
    "    predicted_probabilities = model.predict(new_data)\n",
    "    predicted_labels.append(label_encoder.inverse_transform(np.argmax(predicted_probabilities, axis=1)))\n",
    "\n",
    "# Iterate over the predicted labels\n",
    "for predicted_label in predicted_labels:\n",
    "    # Check if the predicted label exists in the list of available classes\n",
    "    if predicted_label in classes:\n",
    "        # Print the predicted label if it exists in the classes list\n",
    "        print(\"Predicted label:\", predicted_label)\n",
    "    else:\n",
    "        # Print \"unmatched\" if the predicted label does not match any class\n",
    "        print(\"Unmatched\")"
   ]
  },
  {
   "cell_type": "markdown",
   "id": "51679208",
   "metadata": {},
   "source": [
    "# Vary Epoch And Batch Size"
   ]
  },
  {
   "cell_type": "code",
   "execution_count": 28,
   "id": "f01d449d",
   "metadata": {},
   "outputs": [
    {
     "name": "stdout",
     "output_type": "stream",
     "text": [
      "Epoch 1/8\n",
      "118/118 [==============================] - 5s 44ms/step - loss: 0.1208 - accuracy: 0.9656 - val_loss: 0.1496 - val_accuracy: 0.9488\n",
      "Epoch 2/8\n",
      "118/118 [==============================] - 5s 43ms/step - loss: 0.1057 - accuracy: 0.9696 - val_loss: 0.1253 - val_accuracy: 0.9592\n",
      "Epoch 3/8\n",
      "118/118 [==============================] - 6s 52ms/step - loss: 0.0901 - accuracy: 0.9773 - val_loss: 0.1224 - val_accuracy: 0.9552\n",
      "Epoch 4/8\n",
      "118/118 [==============================] - 6s 51ms/step - loss: 0.0753 - accuracy: 0.9829 - val_loss: 0.1044 - val_accuracy: 0.9644\n",
      "Epoch 5/8\n",
      "118/118 [==============================] - 6s 50ms/step - loss: 0.0627 - accuracy: 0.9872 - val_loss: 0.0942 - val_accuracy: 0.9700\n",
      "Epoch 6/8\n",
      "118/118 [==============================] - 6s 48ms/step - loss: 0.0595 - accuracy: 0.9843 - val_loss: 0.0987 - val_accuracy: 0.9656\n",
      "Epoch 7/8\n",
      "118/118 [==============================] - 6s 54ms/step - loss: 0.0516 - accuracy: 0.9877 - val_loss: 0.1028 - val_accuracy: 0.9636\n",
      "Epoch 8/8\n",
      "118/118 [==============================] - 6s 52ms/step - loss: 0.0448 - accuracy: 0.9897 - val_loss: 0.0855 - val_accuracy: 0.9684\n",
      "./dataset/new/newshape1.jpg\n",
      "1/1 [==============================] - 0s 28ms/step\n",
      "Predicted shape: ['triangle']\n",
      "./dataset/new/newshape2.jpg\n",
      "1/1 [==============================] - 0s 35ms/step\n",
      "Predicted shape: ['circle']\n",
      "./dataset/new/newshape3.jpg\n",
      "1/1 [==============================] - 0s 21ms/step\n",
      "Predicted shape: ['parallelogram']\n",
      "./dataset/new/newshape4.jpg\n",
      "1/1 [==============================] - 0s 22ms/step\n",
      "Predicted shape: ['trapezoid']\n",
      "./dataset/new/newshape5.jpg\n",
      "1/1 [==============================] - 0s 29ms/step\n",
      "Predicted shape: ['rectangle']\n",
      "./dataset/new/newshape6.jpg\n",
      "1/1 [==============================] - 0s 32ms/step\n",
      "Predicted shape: ['triangle']\n",
      "./dataset/new/newshape7.jpg\n",
      "1/1 [==============================] - 0s 36ms/step\n",
      "Predicted shape: ['parallelogram']\n",
      "./dataset/new/newshape8.jpg\n",
      "1/1 [==============================] - 0s 21ms/step\n",
      "Predicted shape: ['triangle']\n",
      "./dataset/new/newshape9.jpg\n",
      "1/1 [==============================] - 0s 30ms/step\n",
      "Predicted shape: ['rectangle']\n",
      "./dataset/new/newshape10.jpg\n",
      "1/1 [==============================] - 0s 27ms/step\n",
      "Predicted shape: ['circle']\n"
     ]
    }
   ],
   "source": [
    "# Train the model\n",
    "model.fit(X_train, y_train_one_hot, epochs=8, batch_size=64, validation_data=(X_val, y_val_one_hot))\n",
    "\n",
    "predicted_labels = []\n",
    "# Define a new data point to classify\n",
    "for i in range(10):\n",
    "    j = i+1\n",
    "    temp = os.path.join(image_path, 'newshape' +str(j)+'.jpg') #Current Image\n",
    "    print(temp)\n",
    "    \n",
    "    new_data = np.array([cv2.resize(cv2.imread(temp), image_size)])\n",
    "\n",
    "    # Predict the label for the new data point\n",
    "    predicted_probabilities = model.predict(new_data)\n",
    "    predicted_labels.append(label_encoder.inverse_transform(np.argmax(predicted_probabilities, axis=1)))\n",
    "\n",
    "# Iterate over the predicted labels\n",
    "for predicted_label in predicted_labels:\n",
    "    # Check if the predicted label exists in the list of available classes\n",
    "    if predicted_label in classes:\n",
    "        # Print the predicted label if it exists in the classes list\n",
    "        print(\"Predicted label:\", predicted_label)\n",
    "    else:\n",
    "        # Print \"unmatched\" if the predicted label does not match any class\n",
    "        print(\"Unmatched\")"
   ]
  },
  {
   "cell_type": "code",
   "execution_count": null,
   "id": "cde614e2",
   "metadata": {},
   "outputs": [],
   "source": []
  }
 ],
 "metadata": {
  "kernelspec": {
   "display_name": "Python [conda env:.conda-intro-ml] *",
   "language": "python",
   "name": "conda-env-.conda-intro-ml-py"
  },
  "language_info": {
   "codemirror_mode": {
    "name": "ipython",
    "version": 3
   },
   "file_extension": ".py",
   "mimetype": "text/x-python",
   "name": "python",
   "nbconvert_exporter": "python",
   "pygments_lexer": "ipython3",
   "version": "3.11.2"
  }
 },
 "nbformat": 4,
 "nbformat_minor": 5
}
