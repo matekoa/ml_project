{
 "cells": [
  {
   "cell_type": "code",
   "execution_count": 2,
   "id": "964a048e",
   "metadata": {},
   "outputs": [
    {
     "name": "stdout",
     "output_type": "stream",
     "text": [
      "Epoch 1/10\n",
      "188/188 [==============================] - 8s 33ms/step - loss: 5.5088 - accuracy: 0.2360 - val_loss: 1.5020 - val_accuracy: 0.3320\n",
      "Epoch 2/10\n",
      "188/188 [==============================] - 6s 31ms/step - loss: 1.1628 - accuracy: 0.5370 - val_loss: 0.6821 - val_accuracy: 0.7320\n",
      "Epoch 3/10\n",
      "188/188 [==============================] - 5s 29ms/step - loss: 0.4161 - accuracy: 0.8450 - val_loss: 0.3269 - val_accuracy: 0.8900\n",
      "Epoch 4/10\n",
      "188/188 [==============================] - 6s 34ms/step - loss: 0.1955 - accuracy: 0.9288 - val_loss: 0.1992 - val_accuracy: 0.9287\n",
      "Epoch 5/10\n",
      "188/188 [==============================] - 6s 30ms/step - loss: 0.1255 - accuracy: 0.9532 - val_loss: 0.1843 - val_accuracy: 0.9373\n",
      "Epoch 6/10\n",
      "188/188 [==============================] - 6s 30ms/step - loss: 0.1021 - accuracy: 0.9622 - val_loss: 0.1884 - val_accuracy: 0.9333\n",
      "Epoch 7/10\n",
      "188/188 [==============================] - 6s 31ms/step - loss: 0.0750 - accuracy: 0.9717 - val_loss: 0.2711 - val_accuracy: 0.9160\n",
      "Epoch 8/10\n",
      "188/188 [==============================] - 6s 32ms/step - loss: 0.0794 - accuracy: 0.9708 - val_loss: 0.1299 - val_accuracy: 0.9527\n",
      "Epoch 9/10\n",
      "188/188 [==============================] - 6s 34ms/step - loss: 0.0488 - accuracy: 0.9817 - val_loss: 0.1617 - val_accuracy: 0.9513\n",
      "Epoch 10/10\n",
      "188/188 [==============================] - 6s 29ms/step - loss: 0.0515 - accuracy: 0.9802 - val_loss: 0.1319 - val_accuracy: 0.9533\n",
      "1/1 [==============================] - 0s 188ms/step\n",
      "Predicted shape: ['rectangle']\n"
     ]
    }
   ],
   "source": [
    "import os\n",
    "import numpy as np\n",
    "import cv2\n",
    "from sklearn.model_selection import train_test_split\n",
    "from sklearn.preprocessing import LabelEncoder\n",
    "from keras.utils import to_categorical\n",
    "from keras.models import Sequential\n",
    "from keras.layers import Conv2D, MaxPooling2D, Flatten, Dense, ReLU\n",
    "\n",
    "# Set the path to your dataset directory\n",
    "dataset_path = './dataset/train'\n",
    "\n",
    "# Define the image size for resizing\n",
    "image_size = (32, 32)\n",
    "\n",
    "# Load and preprocess the dataset\n",
    "X_data = []\n",
    "y_data = []\n",
    "\n",
    "# Iterate through the shape directories in the dataset path\n",
    "for shape_dir in os.listdir(dataset_path):\n",
    "    shape_path = os.path.join(dataset_path, shape_dir)\n",
    "    if os.path.isdir(shape_path):\n",
    "        # Iterate through the images in each shape directory\n",
    "        for image_file in os.listdir(shape_path):\n",
    "            image_path = os.path.join(shape_path, image_file)\n",
    "            if image_path.endswith('.jpg'):\n",
    "                # Load the image and resize it to the desired size\n",
    "                image = cv2.imread(image_path)\n",
    "                image = cv2.resize(image, image_size)\n",
    "\n",
    "                # Append the preprocessed image and corresponding label\n",
    "                X_data.append(image)\n",
    "                y_data.append(shape_dir)\n",
    "\n",
    "# Convert the image data and labels to NumPy arrays\n",
    "X_data = np.array(X_data)\n",
    "y_data = np.array(y_data)\n",
    "\n",
    "# Perform train-test split\n",
    "X_train, X_test, y_train, y_test = train_test_split(X_data, y_data, test_size=0.2, random_state=42)\n",
    "\n",
    "# Encode the shape labels into numerical values\n",
    "label_encoder = LabelEncoder()\n",
    "y_train_encoded = label_encoder.fit_transform(y_train)\n",
    "y_test_encoded = label_encoder.transform(y_test)\n",
    "\n",
    "# Convert the numerical labels to one-hot encoded vectors\n",
    "num_classes = len(label_encoder.classes_)\n",
    "y_train_one_hot = to_categorical(y_train_encoded, num_classes)\n",
    "y_test_one_hot = to_categorical(y_test_encoded, num_classes)\n",
    "\n",
    "# Create the CNN model\n",
    "model = Sequential()\n",
    "model.add(Conv2D(32, (3, 3), activation='relu', input_shape=(image_size[0], image_size[1], 3)))\n",
    "model.add(MaxPooling2D((2, 2)))\n",
    "model.add(Conv2D(64, (3, 3), activation='relu'))\n",
    "model.add(MaxPooling2D((2, 2)))\n",
    "model.add(Flatten())\n",
    "model.add(Dense(64))\n",
    "model.add(ReLU())\n",
    "model.add(Dense(num_classes, activation='softmax'))\n",
    "\n",
    "# Compile the model\n",
    "model.compile(optimizer='adam', loss='categorical_crossentropy', metrics=['accuracy'])\n",
    "\n",
    "# Train the model\n",
    "model.fit(X_train, y_train_one_hot, epochs=10, batch_size=32, validation_data=(X_test, y_test_one_hot))\n",
    "\n",
    "# Define a new data point to classify\n",
    "new_data = np.array([cv2.resize(cv2.imread('./dataset/new/newshape.jpg'), image_size)])\n",
    "\n",
    "# Predict the label for the new data point\n",
    "predicted_probabilities = model.predict(new_data)\n",
    "predicted_label = label_encoder.inverse_transform(np.argmax(predicted_probabilities, axis=1))\n",
    "\n",
    "# Print the predicted label\n",
    "print(\"Predicted shape:\", predicted_label)\n"
   ]
  },
  {
   "cell_type": "markdown",
   "id": "b872b343",
   "metadata": {},
   "source": [
    "# Check Predicted Shape"
   ]
  },
  {
   "cell_type": "code",
   "execution_count": 4,
   "id": "4cd1a7f3",
   "metadata": {},
   "outputs": [
    {
     "name": "stdout",
     "output_type": "stream",
     "text": [
      "1/1 [==============================] - 0s 43ms/step\n",
      "Predicted shape: ['trapezoid']\n"
     ]
    }
   ],
   "source": [
    "# Define a new data point to classify\n",
    "new_data = np.array([cv2.resize(cv2.imread('./dataset/new/newshape.jpg'), image_size)])\n",
    "\n",
    "# Predict the label for the new data point\n",
    "predicted_probabilities = model.predict(new_data)\n",
    "predicted_label = label_encoder.inverse_transform(np.argmax(predicted_probabilities, axis=1))\n",
    "\n",
    "# Print the predicted label\n",
    "print(\"Predicted shape:\", predicted_label)"
   ]
  },
  {
   "cell_type": "code",
   "execution_count": 7,
   "id": "03c373b7",
   "metadata": {},
   "outputs": [
    {
     "name": "stdout",
     "output_type": "stream",
     "text": [
      "47/47 [==============================] - 0s 9ms/step - loss: 0.1319 - accuracy: 0.9533\n",
      "Accuracy: 0.95333331823349\n"
     ]
    }
   ],
   "source": [
    "# Evaluate the model on the test data\n",
    "loss, accuracy = model.evaluate(X_test, y_test_one_hot)\n",
    "\n",
    "# Print the accuracy\n",
    "print(\"Accuracy:\", accuracy)"
   ]
  },
  {
   "cell_type": "code",
   "execution_count": null,
   "id": "0b67cbf3",
   "metadata": {},
   "outputs": [],
   "source": []
  }
 ],
 "metadata": {
  "kernelspec": {
   "display_name": "Python [conda env:.conda-intro-ml] *",
   "language": "python",
   "name": "conda-env-.conda-intro-ml-py"
  },
  "language_info": {
   "codemirror_mode": {
    "name": "ipython",
    "version": 3
   },
   "file_extension": ".py",
   "mimetype": "text/x-python",
   "name": "python",
   "nbconvert_exporter": "python",
   "pygments_lexer": "ipython3",
   "version": "3.11.2"
  }
 },
 "nbformat": 4,
 "nbformat_minor": 5
}
