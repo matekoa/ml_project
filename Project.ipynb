{
 "cells": [
  {
   "cell_type": "code",
   "execution_count": 1,
   "id": "161affb8",
   "metadata": {},
   "outputs": [],
   "source": [
    "import os\n",
    "import numpy as np\n",
    "import cv2\n",
    "from sklearn.model_selection import train_test_split\n",
    "from sklearn.preprocessing import LabelEncoder\n",
    "from keras.utils import to_categorical\n",
    "from keras.models import Sequential\n",
    "from keras.layers import Conv2D, MaxPooling2D, Flatten, Dense, ReLU\n",
    "import keras"
   ]
  },
  {
   "cell_type": "code",
   "execution_count": 2,
   "id": "964a048e",
   "metadata": {},
   "outputs": [
    {
     "name": "stdout",
     "output_type": "stream",
     "text": [
      "Epoch 1/10\n",
      "235/235 [==============================] - 7s 25ms/step - loss: 5.7569 - accuracy: 0.3896 - val_loss: 1.0182 - val_accuracy: 0.5996\n",
      "Epoch 2/10\n",
      "235/235 [==============================] - 6s 25ms/step - loss: 0.6341 - accuracy: 0.7560 - val_loss: 0.3808 - val_accuracy: 0.8588\n",
      "Epoch 3/10\n",
      "235/235 [==============================] - 6s 27ms/step - loss: 0.2832 - accuracy: 0.8984 - val_loss: 0.2519 - val_accuracy: 0.9092\n",
      "Epoch 4/10\n",
      "235/235 [==============================] - 6s 27ms/step - loss: 0.1597 - accuracy: 0.9419 - val_loss: 0.2404 - val_accuracy: 0.9148\n",
      "Epoch 5/10\n",
      "235/235 [==============================] - 6s 27ms/step - loss: 0.1041 - accuracy: 0.9636 - val_loss: 0.1576 - val_accuracy: 0.9468\n",
      "Epoch 6/10\n",
      "235/235 [==============================] - 6s 27ms/step - loss: 0.0718 - accuracy: 0.9735 - val_loss: 0.1790 - val_accuracy: 0.9412\n",
      "Epoch 7/10\n",
      "235/235 [==============================] - 7s 28ms/step - loss: 0.0536 - accuracy: 0.9805 - val_loss: 0.1441 - val_accuracy: 0.9496\n",
      "Epoch 8/10\n",
      "235/235 [==============================] - 7s 28ms/step - loss: 0.0335 - accuracy: 0.9893 - val_loss: 0.1493 - val_accuracy: 0.9532\n",
      "Epoch 9/10\n",
      "235/235 [==============================] - 7s 29ms/step - loss: 0.0379 - accuracy: 0.9869 - val_loss: 0.1490 - val_accuracy: 0.9556\n",
      "Epoch 10/10\n",
      "235/235 [==============================] - 8s 34ms/step - loss: 0.0558 - accuracy: 0.9828 - val_loss: 0.2250 - val_accuracy: 0.9460\n"
     ]
    },
    {
     "data": {
      "text/plain": [
       "<keras.callbacks.History at 0x1faef883050>"
      ]
     },
     "execution_count": 2,
     "metadata": {},
     "output_type": "execute_result"
    }
   ],
   "source": [
    "\n",
    "\n",
    "#Set the path to your train dataset directory\n",
    "dataset_path = './dataset/train'\n",
    "\n",
    "# Define the image size for resizing\n",
    "image_size = (32, 32)\n",
    "\n",
    "# Load and preprocess the dataset\n",
    "X_train = []\n",
    "y_train = []\n",
    "\n",
    "# Iterate through the shape directories in the dataset path\n",
    "for shape_dir in os.listdir(dataset_path):\n",
    "    shape_path = os.path.join(dataset_path, shape_dir)\n",
    "    if os.path.isdir(shape_path):\n",
    "        # Iterate through the images in each shape directory\n",
    "        for image_file in os.listdir(shape_path):\n",
    "            image_path = os.path.join(shape_path, image_file)\n",
    "            if image_path.endswith('.jpg'):\n",
    "                # Load the image and resize it to the desired size\n",
    "                image = cv2.imread(image_path)\n",
    "                image = cv2.resize(image, image_size)\n",
    "\n",
    "                # Append the preprocessed image and corresponding label\n",
    "                X_train.append(image)\n",
    "                y_train.append(shape_dir)\n",
    "\n",
    "# Convert the image data and labels to NumPy arrays\n",
    "X_train = np.array(X_train)\n",
    "y_train = np.array(y_train)\n",
    "\n",
    "classes = np.unique(y_train)\n",
    "\n",
    "#Set the path to your test dataset directory\n",
    "dataset_path = './dataset/test'\n",
    "\n",
    "# Load and preprocess the dataset\n",
    "X_test = []\n",
    "y_test = []\n",
    "\n",
    "# Iterate through the shape directories in the dataset path\n",
    "for shape_dir in os.listdir(dataset_path):\n",
    "    shape_path = os.path.join(dataset_path, shape_dir)\n",
    "    if os.path.isdir(shape_path):\n",
    "        # Iterate through the images in each shape directory\n",
    "        for image_file in os.listdir(shape_path):\n",
    "            image_path = os.path.join(shape_path, image_file)\n",
    "            if image_path.endswith('.jpg'):\n",
    "                # Load the image and resize it to the desired size\n",
    "                image = cv2.imread(image_path)\n",
    "                image = cv2.resize(image, image_size)\n",
    "\n",
    "                # Append the preprocessed image and corresponding label\n",
    "                X_test.append(image)\n",
    "                y_test.append(shape_dir)\n",
    "\n",
    "# Convert the image data and labels to NumPy arrays\n",
    "X_test = np.array(X_test)\n",
    "y_test = np.array(y_test)\n",
    "\n",
    "# Perform train-test split: This has already been done in the dataset\n",
    "#X_train, X_test, y_train, y_test = train_test_split(X_data, y_data, test_size=0.2, random_state=42)\n",
    "\n",
    "#Set the path to your Validation dataset directory\n",
    "dataset_path = './dataset/val'\n",
    "\n",
    "# Load and preprocess the dataset\n",
    "X_val = []\n",
    "y_val = []\n",
    "\n",
    "# Iterate through the shape directories in the dataset path\n",
    "for shape_dir in os.listdir(dataset_path):\n",
    "    shape_path = os.path.join(dataset_path, shape_dir)\n",
    "    if os.path.isdir(shape_path):\n",
    "        # Iterate through the images in each shape directory\n",
    "        for image_file in os.listdir(shape_path):\n",
    "            image_path = os.path.join(shape_path, image_file)\n",
    "            if image_path.endswith('.jpg'):\n",
    "                # Load the image and resize it to the desired size\n",
    "                image = cv2.imread(image_path)\n",
    "                image = cv2.resize(image, image_size)\n",
    "\n",
    "                # Append the preprocessed image and corresponding label\n",
    "                X_val.append(image)\n",
    "                y_val.append(shape_dir)\n",
    "\n",
    "# Convert the image data and labels to NumPy arrays\n",
    "X_val = np.array(X_val)\n",
    "y_val = np.array(y_val)\n",
    "\n",
    "\n",
    "# Encode the shape labels into numerical values\n",
    "label_encoder = LabelEncoder()\n",
    "y_train_encoded = label_encoder.fit_transform(y_train)\n",
    "y_val_encoded = label_encoder.transform(y_val)\n",
    "y_test_encoded = label_encoder.transform(y_test)\n",
    "\n",
    "# Convert the numerical labels to one-hot encoded vectors\n",
    "num_classes = len(label_encoder.classes_)\n",
    "y_train_one_hot = to_categorical(y_train_encoded, num_classes)\n",
    "y_val_one_hot = to_categorical(y_val_encoded, num_classes)\n",
    "y_test_one_hot = to_categorical(y_test_encoded, num_classes)\n",
    "\n",
    "# Create the CNN model\n",
    "model = Sequential()\n",
    "model.add(Conv2D(32, (3, 3), activation='relu', input_shape=(image_size[0], image_size[1], 3)))\n",
    "model.add(MaxPooling2D((2, 2)))\n",
    "model.add(Conv2D(64, (3, 3), activation='relu'))\n",
    "model.add(MaxPooling2D((2, 2)))\n",
    "model.add(Flatten())\n",
    "model.add(Dense(64))\n",
    "model.add(ReLU())\n",
    "model.add(Dense(num_classes, activation='softmax'))\n",
    "\n",
    "# Compile the model\n",
    "model.compile(optimizer='adam', loss='categorical_crossentropy', metrics=['accuracy'])\n",
    "\n",
    "# Train the model\n",
    "model.fit(X_train, y_train_one_hot, epochs=10, batch_size=32, validation_data=(X_val, y_val_one_hot))\n"
   ]
  },
  {
   "cell_type": "markdown",
   "id": "b872b343",
   "metadata": {},
   "source": [
    "# Check Predicted Shape"
   ]
  },
  {
   "cell_type": "code",
   "execution_count": 3,
   "id": "4cd1a7f3",
   "metadata": {},
   "outputs": [
    {
     "name": "stdout",
     "output_type": "stream",
     "text": [
      "./dataset/new/newshape1.jpg\n",
      "1/1 [==============================] - 0s 104ms/step\n",
      "./dataset/new/newshape2.jpg\n",
      "1/1 [==============================] - 0s 19ms/step\n",
      "./dataset/new/newshape3.jpg\n",
      "1/1 [==============================] - 0s 18ms/step\n",
      "./dataset/new/newshape4.jpg\n",
      "1/1 [==============================] - 0s 21ms/step\n",
      "./dataset/new/newshape5.jpg\n",
      "1/1 [==============================] - 0s 19ms/step\n",
      "./dataset/new/newshape6.jpg\n",
      "1/1 [==============================] - 0s 21ms/step\n",
      "./dataset/new/newshape7.jpg\n",
      "1/1 [==============================] - 0s 30ms/step\n",
      "./dataset/new/newshape8.jpg\n",
      "1/1 [==============================] - 0s 28ms/step\n",
      "./dataset/new/newshape9.jpg\n",
      "1/1 [==============================] - 0s 23ms/step\n",
      "./dataset/new/newshape10.jpg\n",
      "1/1 [==============================] - 0s 25ms/step\n",
      "Predicted label: ['triangle']\n",
      "Predicted label: ['circle']\n",
      "Predicted label: ['parallelogram']\n",
      "Predicted label: ['parallelogram']\n",
      "Predicted label: ['rectangle']\n",
      "Predicted label: ['triangle']\n",
      "Predicted label: ['trapezoid']\n",
      "Predicted label: ['triangle']\n",
      "Predicted label: ['rectangle']\n",
      "Predicted label: ['circle']\n"
     ]
    }
   ],
   "source": [
    "#Set the path to your test dataset directory\n",
    "image_path = './dataset/new/'\n",
    "predicted_labels = []\n",
    "# Define a new data point to classify\n",
    "for i in range(10):\n",
    "    j = i+1\n",
    "    temp = os.path.join(image_path, 'newshape' +str(j)+'.jpg') #Current Image\n",
    "    print(temp)\n",
    "    \n",
    "    new_data = np.array([cv2.resize(cv2.imread(temp), image_size)])\n",
    "\n",
    "    # Predict the label for the new data point\n",
    "    predicted_probabilities = model.predict(new_data)\n",
    "    predicted_labels.append(label_encoder.inverse_transform(np.argmax(predicted_probabilities, axis=1)))\n",
    "\n",
    "# Iterate over the predicted labels\n",
    "for predicted_label in predicted_labels:\n",
    "    # Check if the predicted label exists in the list of available classes\n",
    "    if predicted_label in classes:\n",
    "        # Print the predicted label if it exists in the classes list\n",
    "        print(\"Predicted label:\", predicted_label)\n",
    "    else:\n",
    "        # Print \"unmatched\" if the predicted label does not match any class\n",
    "        print(\"Unmatched\")"
   ]
  },
  {
   "cell_type": "code",
   "execution_count": 4,
   "id": "2dfb745d",
   "metadata": {},
   "outputs": [
    {
     "name": "stdout",
     "output_type": "stream",
     "text": [
      "['circle' 'parallelogram' 'rectangle' 'trapezoid' 'triangle']\n"
     ]
    }
   ],
   "source": [
    "print(classes)"
   ]
  },
  {
   "cell_type": "code",
   "execution_count": 5,
   "id": "03c373b7",
   "metadata": {},
   "outputs": [
    {
     "name": "stdout",
     "output_type": "stream",
     "text": [
      "79/79 [==============================] - 1s 7ms/step - loss: 0.2281 - accuracy: 0.9424\n",
      "Accuracy: 0.9423999786376953\n"
     ]
    }
   ],
   "source": [
    "# Evaluate the model on the test data\n",
    "loss, accuracy = model.evaluate(X_test, y_test_one_hot)\n",
    "\n",
    "# Print the accuracy\n",
    "print(\"Accuracy:\", accuracy)"
   ]
  },
  {
   "cell_type": "markdown",
   "id": "e9545519",
   "metadata": {},
   "source": [
    "# Training Model Using A tanh Activation In The Hidden Layer"
   ]
  },
  {
   "cell_type": "code",
   "execution_count": 6,
   "id": "9ccdf49c",
   "metadata": {},
   "outputs": [
    {
     "name": "stdout",
     "output_type": "stream",
     "text": [
      "Epoch 1/10\n",
      "235/235 [==============================] - 7s 28ms/step - loss: 1.6605 - accuracy: 0.2137 - val_loss: 1.5676 - val_accuracy: 0.2380\n",
      "Epoch 2/10\n",
      "235/235 [==============================] - 6s 26ms/step - loss: 1.6061 - accuracy: 0.2041 - val_loss: 1.6095 - val_accuracy: 0.2000\n",
      "Epoch 3/10\n",
      "235/235 [==============================] - 6s 27ms/step - loss: 1.6096 - accuracy: 0.2000 - val_loss: 1.6095 - val_accuracy: 0.2000\n",
      "Epoch 4/10\n",
      "235/235 [==============================] - 6s 26ms/step - loss: 1.6096 - accuracy: 0.1872 - val_loss: 1.6094 - val_accuracy: 0.2000\n",
      "Epoch 5/10\n",
      "235/235 [==============================] - 7s 29ms/step - loss: 1.6096 - accuracy: 0.1908 - val_loss: 1.6094 - val_accuracy: 0.2000\n",
      "Epoch 6/10\n",
      "235/235 [==============================] - 7s 29ms/step - loss: 1.6096 - accuracy: 0.1901 - val_loss: 1.6094 - val_accuracy: 0.2000\n",
      "Epoch 7/10\n",
      "235/235 [==============================] - 6s 27ms/step - loss: 1.6096 - accuracy: 0.1903 - val_loss: 1.6094 - val_accuracy: 0.2000\n",
      "Epoch 8/10\n",
      "235/235 [==============================] - 7s 29ms/step - loss: 1.6096 - accuracy: 0.1932 - val_loss: 1.6094 - val_accuracy: 0.2000\n",
      "Epoch 9/10\n",
      "235/235 [==============================] - 7s 28ms/step - loss: 1.6096 - accuracy: 0.1921 - val_loss: 1.6094 - val_accuracy: 0.2000\n",
      "Epoch 10/10\n",
      "235/235 [==============================] - 7s 31ms/step - loss: 1.6096 - accuracy: 0.1928 - val_loss: 1.6094 - val_accuracy: 0.2000\n"
     ]
    },
    {
     "data": {
      "text/plain": [
       "<keras.callbacks.History at 0x1faf20adf90>"
      ]
     },
     "execution_count": 6,
     "metadata": {},
     "output_type": "execute_result"
    }
   ],
   "source": [
    "# Create the CNN model\n",
    "model = Sequential()\n",
    "model.add(Conv2D(32, (3, 3), activation='relu', input_shape=(image_size[0], image_size[1], 3)))\n",
    "model.add(MaxPooling2D((2, 2)))\n",
    "model.add(Conv2D(64, (3, 3), activation='tanh'))\n",
    "model.add(MaxPooling2D((2, 2)))\n",
    "model.add(Flatten())\n",
    "model.add(Dense(64))\n",
    "model.add(ReLU())\n",
    "model.add(Dense(num_classes, activation='softmax'))\n",
    "\n",
    "# Compile the model\n",
    "model.compile(optimizer='adam', loss='categorical_crossentropy', metrics=['accuracy'])\n",
    "\n",
    "# Train the model\n",
    "model.fit(X_train, y_train_one_hot, epochs=10, batch_size=32, validation_data=(X_val, y_val_one_hot))"
   ]
  },
  {
   "cell_type": "markdown",
   "id": "6471e63e",
   "metadata": {},
   "source": [
    "# Predict"
   ]
  },
  {
   "cell_type": "code",
   "execution_count": 7,
   "id": "504aa62d",
   "metadata": {},
   "outputs": [
    {
     "name": "stdout",
     "output_type": "stream",
     "text": [
      "./dataset/new/newshape1.jpg\n",
      "1/1 [==============================] - 0s 87ms/step\n",
      "./dataset/new/newshape2.jpg\n",
      "1/1 [==============================] - 0s 20ms/step\n",
      "./dataset/new/newshape3.jpg\n",
      "1/1 [==============================] - 0s 23ms/step\n",
      "./dataset/new/newshape4.jpg\n",
      "1/1 [==============================] - 0s 20ms/step\n",
      "./dataset/new/newshape5.jpg\n",
      "1/1 [==============================] - 0s 20ms/step\n",
      "./dataset/new/newshape6.jpg\n",
      "1/1 [==============================] - 0s 22ms/step\n",
      "./dataset/new/newshape7.jpg\n",
      "1/1 [==============================] - 0s 18ms/step\n",
      "./dataset/new/newshape8.jpg\n",
      "1/1 [==============================] - 0s 21ms/step\n",
      "./dataset/new/newshape9.jpg\n",
      "1/1 [==============================] - 0s 20ms/step\n",
      "./dataset/new/newshape10.jpg\n",
      "1/1 [==============================] - 0s 19ms/step\n",
      "Predicted label: ['triangle']\n",
      "Predicted label: ['triangle']\n",
      "Predicted label: ['triangle']\n",
      "Predicted label: ['triangle']\n",
      "Predicted label: ['triangle']\n",
      "Predicted label: ['triangle']\n",
      "Predicted label: ['triangle']\n",
      "Predicted label: ['triangle']\n",
      "Predicted label: ['triangle']\n",
      "Predicted label: ['triangle']\n"
     ]
    }
   ],
   "source": [
    "#Set the path to your test dataset directory\n",
    "image_path = './dataset/new/'\n",
    "predicted_labels = []\n",
    "# Define a new data point to classify\n",
    "for i in range(10):\n",
    "    j = i+1\n",
    "    temp = os.path.join(image_path, 'newshape' +str(j)+'.jpg') #Current Image\n",
    "    print(temp)\n",
    "    \n",
    "    new_data = np.array([cv2.resize(cv2.imread(temp), image_size)])\n",
    "\n",
    "    # Predict the label for the new data point\n",
    "    predicted_probabilities = model.predict(new_data)\n",
    "    predicted_labels.append(label_encoder.inverse_transform(np.argmax(predicted_probabilities, axis=1)))\n",
    "\n",
    "# Iterate over the predicted labels\n",
    "for predicted_label in predicted_labels:\n",
    "    # Check if the predicted label exists in the list of available classes\n",
    "    if predicted_label in classes:\n",
    "        # Print the predicted label if it exists in the classes list\n",
    "        print(\"Predicted label:\", predicted_label)\n",
    "    else:\n",
    "        # Print \"unmatched\" if the predicted label does not match any class\n",
    "        print(\"Unmatched\")"
   ]
  },
  {
   "cell_type": "markdown",
   "id": "5a07cadc",
   "metadata": {},
   "source": [
    "# Training Model Using A Sigmoid Activation In The Output Layer"
   ]
  },
  {
   "cell_type": "code",
   "execution_count": 8,
   "id": "ad4e1006",
   "metadata": {},
   "outputs": [
    {
     "name": "stdout",
     "output_type": "stream",
     "text": [
      "Epoch 1/10\n",
      "235/235 [==============================] - 7s 25ms/step - loss: 4.5360 - accuracy: 0.4091 - val_loss: 0.8454 - val_accuracy: 0.6776\n",
      "Epoch 2/10\n",
      "235/235 [==============================] - 6s 24ms/step - loss: 0.4436 - accuracy: 0.8383 - val_loss: 0.4324 - val_accuracy: 0.8472\n",
      "Epoch 3/10\n",
      "235/235 [==============================] - 6s 27ms/step - loss: 0.2192 - accuracy: 0.9215 - val_loss: 0.2316 - val_accuracy: 0.9172\n",
      "Epoch 4/10\n",
      "235/235 [==============================] - 6s 26ms/step - loss: 0.1298 - accuracy: 0.9539 - val_loss: 0.2368 - val_accuracy: 0.9248\n",
      "Epoch 5/10\n",
      "235/235 [==============================] - 6s 27ms/step - loss: 0.1077 - accuracy: 0.9616 - val_loss: 0.1767 - val_accuracy: 0.9448\n",
      "Epoch 6/10\n",
      "235/235 [==============================] - 7s 28ms/step - loss: 0.0808 - accuracy: 0.9715 - val_loss: 0.2153 - val_accuracy: 0.9292\n",
      "Epoch 7/10\n",
      "235/235 [==============================] - 7s 29ms/step - loss: 0.0678 - accuracy: 0.9757 - val_loss: 0.1810 - val_accuracy: 0.9452\n",
      "Epoch 8/10\n",
      "235/235 [==============================] - 7s 28ms/step - loss: 0.0474 - accuracy: 0.9832 - val_loss: 0.1705 - val_accuracy: 0.9540\n",
      "Epoch 9/10\n",
      "235/235 [==============================] - 7s 29ms/step - loss: 0.0373 - accuracy: 0.9871 - val_loss: 0.1555 - val_accuracy: 0.9576\n",
      "Epoch 10/10\n",
      "235/235 [==============================] - 6s 26ms/step - loss: 0.0557 - accuracy: 0.9801 - val_loss: 0.2040 - val_accuracy: 0.9468\n"
     ]
    },
    {
     "data": {
      "text/plain": [
       "<keras.callbacks.History at 0x1faf230fb90>"
      ]
     },
     "execution_count": 8,
     "metadata": {},
     "output_type": "execute_result"
    }
   ],
   "source": [
    "# Create the CNN model\n",
    "model = Sequential()\n",
    "model.add(Conv2D(32, (3, 3), activation='relu', input_shape=(image_size[0], image_size[1], 3)))\n",
    "model.add(MaxPooling2D((2, 2)))\n",
    "model.add(Conv2D(64, (3, 3), activation='relu'))\n",
    "model.add(MaxPooling2D((2, 2)))\n",
    "model.add(Flatten())\n",
    "model.add(Dense(64))\n",
    "model.add(ReLU())\n",
    "model.add(Dense(num_classes, activation='sigmoid'))\n",
    "\n",
    "# Compile the model\n",
    "model.compile(optimizer='adam', loss='categorical_crossentropy', metrics=['accuracy'])\n",
    "\n",
    "# Train the model\n",
    "model.fit(X_train, y_train_one_hot, epochs=10, batch_size=32, validation_data=(X_val, y_val_one_hot))"
   ]
  },
  {
   "cell_type": "code",
   "execution_count": 9,
   "id": "1a84fb28",
   "metadata": {},
   "outputs": [
    {
     "name": "stdout",
     "output_type": "stream",
     "text": [
      "./dataset/new/newshape1.jpg\n",
      "1/1 [==============================] - 0s 68ms/step\n",
      "./dataset/new/newshape2.jpg\n",
      "1/1 [==============================] - 0s 20ms/step\n",
      "./dataset/new/newshape3.jpg\n",
      "1/1 [==============================] - 0s 19ms/step\n",
      "./dataset/new/newshape4.jpg\n",
      "1/1 [==============================] - 0s 19ms/step\n",
      "./dataset/new/newshape5.jpg\n",
      "1/1 [==============================] - 0s 27ms/step\n",
      "./dataset/new/newshape6.jpg\n",
      "1/1 [==============================] - 0s 23ms/step\n",
      "./dataset/new/newshape7.jpg\n",
      "1/1 [==============================] - 0s 20ms/step\n",
      "./dataset/new/newshape8.jpg\n",
      "1/1 [==============================] - 0s 19ms/step\n",
      "./dataset/new/newshape9.jpg\n",
      "1/1 [==============================] - 0s 19ms/step\n",
      "./dataset/new/newshape10.jpg\n",
      "1/1 [==============================] - 0s 19ms/step\n",
      "Predicted label: ['trapezoid']\n",
      "Predicted label: ['circle']\n",
      "Predicted label: ['trapezoid']\n",
      "Predicted label: ['trapezoid']\n",
      "Predicted label: ['rectangle']\n",
      "Predicted label: ['triangle']\n",
      "Predicted label: ['rectangle']\n",
      "Predicted label: ['parallelogram']\n",
      "Predicted label: ['rectangle']\n",
      "Predicted label: ['circle']\n"
     ]
    }
   ],
   "source": [
    "predicted_labels = []\n",
    "# Define a new data point to classify\n",
    "for i in range(10):\n",
    "    j = i+1\n",
    "    temp = os.path.join(image_path, 'newshape' +str(j)+'.jpg') #Current Image\n",
    "    print(temp)\n",
    "    \n",
    "    new_data = np.array([cv2.resize(cv2.imread(temp), image_size)])\n",
    "\n",
    "    # Predict the label for the new data point\n",
    "    predicted_probabilities = model.predict(new_data)\n",
    "    predicted_labels.append(label_encoder.inverse_transform(np.argmax(predicted_probabilities, axis=1)))\n",
    "\n",
    "# Iterate over the predicted labels\n",
    "for predicted_label in predicted_labels:\n",
    "    # Check if the predicted label exists in the list of available classes\n",
    "    if predicted_label in classes:\n",
    "        # Print the predicted label if it exists in the classes list\n",
    "        print(\"Predicted label:\", predicted_label)\n",
    "    else:\n",
    "        # Print \"unmatched\" if the predicted label does not match any class\n",
    "        print(\"Unmatched\")"
   ]
  },
  {
   "cell_type": "code",
   "execution_count": 10,
   "id": "5761f0c8",
   "metadata": {},
   "outputs": [
    {
     "name": "stdout",
     "output_type": "stream",
     "text": [
      "79/79 [==============================] - 1s 8ms/step - loss: 0.1765 - accuracy: 0.9508\n",
      "Accuracy: 0.9508000016212463\n"
     ]
    }
   ],
   "source": [
    "# Evaluate the model on the test data\n",
    "loss, accuracy = model.evaluate(X_test, y_test_one_hot)\n",
    "\n",
    "# Print the accuracy\n",
    "print(\"Accuracy:\", accuracy)"
   ]
  },
  {
   "cell_type": "markdown",
   "id": "09fc9ce9",
   "metadata": {},
   "source": [
    "# Initial Model Using ReLU in Input and Hidden Layer But Varied Epoch and Batch Size"
   ]
  },
  {
   "cell_type": "markdown",
   "id": "511858df",
   "metadata": {},
   "source": [
    "The optimizer learning rate is changed."
   ]
  },
  {
   "cell_type": "code",
   "execution_count": 12,
   "id": "03f56302",
   "metadata": {},
   "outputs": [
    {
     "name": "stdout",
     "output_type": "stream",
     "text": [
      "Epoch 1/32\n",
      "118/118 [==============================] - 6s 45ms/step - loss: 6.3411 - accuracy: 0.3440 - val_loss: 1.0341 - val_accuracy: 0.5872\n",
      "Epoch 2/32\n",
      "118/118 [==============================] - 5s 45ms/step - loss: 0.6652 - accuracy: 0.7496 - val_loss: 0.4378 - val_accuracy: 0.8484\n",
      "Epoch 3/32\n",
      "118/118 [==============================] - 7s 57ms/step - loss: 0.3135 - accuracy: 0.8879 - val_loss: 0.3384 - val_accuracy: 0.8844\n",
      "Epoch 4/32\n",
      "118/118 [==============================] - 6s 49ms/step - loss: 0.2016 - accuracy: 0.9291 - val_loss: 0.2108 - val_accuracy: 0.9296\n",
      "Epoch 5/32\n",
      "118/118 [==============================] - 5s 45ms/step - loss: 0.1439 - accuracy: 0.9505 - val_loss: 0.1941 - val_accuracy: 0.9384\n",
      "Epoch 6/32\n",
      "118/118 [==============================] - 6s 47ms/step - loss: 0.1103 - accuracy: 0.9608 - val_loss: 0.1851 - val_accuracy: 0.9396\n",
      "Epoch 7/32\n",
      "118/118 [==============================] - 5s 46ms/step - loss: 0.0766 - accuracy: 0.9740 - val_loss: 0.1819 - val_accuracy: 0.9372\n",
      "Epoch 8/32\n",
      "118/118 [==============================] - 6s 50ms/step - loss: 0.0827 - accuracy: 0.9712 - val_loss: 0.2098 - val_accuracy: 0.9352\n",
      "Epoch 9/32\n",
      "118/118 [==============================] - 6s 50ms/step - loss: 0.0627 - accuracy: 0.9783 - val_loss: 0.1552 - val_accuracy: 0.9524\n",
      "Epoch 10/32\n",
      "118/118 [==============================] - 6s 48ms/step - loss: 0.0439 - accuracy: 0.9833 - val_loss: 0.1681 - val_accuracy: 0.9488\n",
      "Epoch 11/32\n",
      "118/118 [==============================] - 6s 53ms/step - loss: 0.0427 - accuracy: 0.9839 - val_loss: 0.1777 - val_accuracy: 0.9444\n",
      "Epoch 12/32\n",
      "118/118 [==============================] - 6s 47ms/step - loss: 0.0358 - accuracy: 0.9873 - val_loss: 0.1577 - val_accuracy: 0.9540\n",
      "Epoch 13/32\n",
      "118/118 [==============================] - 5s 46ms/step - loss: 0.0307 - accuracy: 0.9889 - val_loss: 0.1684 - val_accuracy: 0.9540\n",
      "Epoch 14/32\n",
      "118/118 [==============================] - 6s 47ms/step - loss: 0.0433 - accuracy: 0.9849 - val_loss: 0.2479 - val_accuracy: 0.9400\n",
      "Epoch 15/32\n",
      "118/118 [==============================] - 6s 49ms/step - loss: 0.0702 - accuracy: 0.9751 - val_loss: 0.1944 - val_accuracy: 0.9528\n",
      "Epoch 16/32\n",
      "118/118 [==============================] - 5s 46ms/step - loss: 0.0394 - accuracy: 0.9859 - val_loss: 0.1638 - val_accuracy: 0.9576\n",
      "Epoch 17/32\n",
      "118/118 [==============================] - 5s 47ms/step - loss: 0.0315 - accuracy: 0.9893 - val_loss: 0.1885 - val_accuracy: 0.9524\n",
      "Epoch 18/32\n",
      "118/118 [==============================] - 5s 46ms/step - loss: 0.0288 - accuracy: 0.9904 - val_loss: 0.1285 - val_accuracy: 0.9636\n",
      "Epoch 19/32\n",
      "118/118 [==============================] - 6s 47ms/step - loss: 0.0111 - accuracy: 0.9960 - val_loss: 0.1610 - val_accuracy: 0.9592\n",
      "Epoch 20/32\n",
      "118/118 [==============================] - 5s 46ms/step - loss: 0.0094 - accuracy: 0.9968 - val_loss: 0.1454 - val_accuracy: 0.9624\n",
      "Epoch 21/32\n",
      "118/118 [==============================] - 5s 46ms/step - loss: 0.0086 - accuracy: 0.9973 - val_loss: 0.1403 - val_accuracy: 0.9644\n",
      "Epoch 22/32\n",
      "118/118 [==============================] - 6s 47ms/step - loss: 0.0072 - accuracy: 0.9980 - val_loss: 0.1249 - val_accuracy: 0.9684\n",
      "Epoch 23/32\n",
      "118/118 [==============================] - 6s 48ms/step - loss: 0.0019 - accuracy: 0.9997 - val_loss: 0.1253 - val_accuracy: 0.9672\n",
      "Epoch 24/32\n",
      "118/118 [==============================] - 6s 47ms/step - loss: 6.9652e-04 - accuracy: 1.0000 - val_loss: 0.1225 - val_accuracy: 0.9728\n",
      "Epoch 25/32\n",
      "118/118 [==============================] - 6s 54ms/step - loss: 4.1915e-04 - accuracy: 1.0000 - val_loss: 0.1292 - val_accuracy: 0.9724\n",
      "Epoch 26/32\n",
      "118/118 [==============================] - 6s 49ms/step - loss: 3.2721e-04 - accuracy: 1.0000 - val_loss: 0.1237 - val_accuracy: 0.9724\n",
      "Epoch 27/32\n",
      "118/118 [==============================] - 6s 51ms/step - loss: 2.7407e-04 - accuracy: 1.0000 - val_loss: 0.1245 - val_accuracy: 0.9736\n",
      "Epoch 28/32\n",
      "118/118 [==============================] - 6s 48ms/step - loss: 2.5515e-04 - accuracy: 1.0000 - val_loss: 0.1239 - val_accuracy: 0.9740\n",
      "Epoch 29/32\n",
      "118/118 [==============================] - 5s 46ms/step - loss: 2.2005e-04 - accuracy: 1.0000 - val_loss: 0.1250 - val_accuracy: 0.9728\n",
      "Epoch 30/32\n",
      "118/118 [==============================] - 6s 48ms/step - loss: 1.9814e-04 - accuracy: 1.0000 - val_loss: 0.1279 - val_accuracy: 0.9724\n",
      "Epoch 31/32\n",
      "118/118 [==============================] - 6s 47ms/step - loss: 1.8196e-04 - accuracy: 1.0000 - val_loss: 0.1272 - val_accuracy: 0.9732\n",
      "Epoch 32/32\n",
      "118/118 [==============================] - 6s 47ms/step - loss: 1.6331e-04 - accuracy: 1.0000 - val_loss: 0.1258 - val_accuracy: 0.9736\n"
     ]
    },
    {
     "data": {
      "text/plain": [
       "<keras.callbacks.History at 0x1faf2480e10>"
      ]
     },
     "execution_count": 12,
     "metadata": {},
     "output_type": "execute_result"
    }
   ],
   "source": [
    "# Create the CNN model\n",
    "model = Sequential()\n",
    "model.add(Conv2D(32, (3, 3), activation='relu', input_shape=(image_size[0], image_size[1], 3)))\n",
    "model.add(MaxPooling2D((2, 2)))\n",
    "model.add(Conv2D(64, (3, 3), activation='relu'))\n",
    "model.add(MaxPooling2D((2, 2)))\n",
    "model.add(Flatten())\n",
    "model.add(Dense(64))\n",
    "model.add(ReLU())\n",
    "model.add(Dense(num_classes, activation='softmax'))\n",
    "\n",
    "# Compile the model\n",
    "#opt = keras.optimizers.Adam(learning_rate=0.01)\n",
    "model.compile(optimizer='adam', loss='categorical_crossentropy', metrics=['accuracy'])\n",
    "\n",
    "# Train the model\n",
    "model.fit(X_train, y_train_one_hot, epochs=32, batch_size=64, validation_data=(X_val, y_val_one_hot))"
   ]
  },
  {
   "cell_type": "markdown",
   "id": "21d921e8",
   "metadata": {},
   "source": [
    "# Predict"
   ]
  },
  {
   "cell_type": "code",
   "execution_count": 13,
   "id": "e111a2e0",
   "metadata": {},
   "outputs": [
    {
     "name": "stdout",
     "output_type": "stream",
     "text": [
      "./dataset/new/newshape1.jpg\n",
      "1/1 [==============================] - 0s 68ms/step\n",
      "./dataset/new/newshape2.jpg\n",
      "1/1 [==============================] - 0s 20ms/step\n",
      "./dataset/new/newshape3.jpg\n",
      "1/1 [==============================] - 0s 21ms/step\n",
      "./dataset/new/newshape4.jpg\n",
      "1/1 [==============================] - 0s 20ms/step\n",
      "./dataset/new/newshape5.jpg\n",
      "1/1 [==============================] - 0s 20ms/step\n",
      "./dataset/new/newshape6.jpg\n",
      "1/1 [==============================] - 0s 21ms/step\n",
      "./dataset/new/newshape7.jpg\n",
      "1/1 [==============================] - 0s 20ms/step\n",
      "./dataset/new/newshape8.jpg\n",
      "1/1 [==============================] - 0s 19ms/step\n",
      "./dataset/new/newshape9.jpg\n",
      "1/1 [==============================] - 0s 21ms/step\n",
      "./dataset/new/newshape10.jpg\n",
      "1/1 [==============================] - 0s 19ms/step\n",
      "Predicted label: ['triangle']\n",
      "Predicted label: ['circle']\n",
      "Predicted label: ['trapezoid']\n",
      "Predicted label: ['trapezoid']\n",
      "Predicted label: ['rectangle']\n",
      "Predicted label: ['triangle']\n",
      "Predicted label: ['trapezoid']\n",
      "Predicted label: ['triangle']\n",
      "Predicted label: ['rectangle']\n",
      "Predicted label: ['circle']\n"
     ]
    }
   ],
   "source": [
    "predicted_labels = []\n",
    "# Define a new data point to classify\n",
    "for i in range(10):\n",
    "    j = i+1\n",
    "    temp = os.path.join(image_path, 'newshape' +str(j)+'.jpg') #Current Image\n",
    "    print(temp)\n",
    "    \n",
    "    new_data = np.array([cv2.resize(cv2.imread(temp), image_size)])\n",
    "\n",
    "    # Predict the label for the new data point\n",
    "    predicted_probabilities = model.predict(new_data)\n",
    "    predicted_labels.append(label_encoder.inverse_transform(np.argmax(predicted_probabilities, axis=1)))\n",
    "\n",
    "# Iterate over the predicted labels\n",
    "for predicted_label in predicted_labels:\n",
    "    # Check if the predicted label exists in the list of available classes\n",
    "    if predicted_label in classes:\n",
    "        # Print the predicted label if it exists in the classes list\n",
    "        print(\"Predicted label:\", predicted_label)\n",
    "    else:\n",
    "        # Print \"unmatched\" if the predicted label does not match any class\n",
    "        print(\"Unmatched\")"
   ]
  },
  {
   "cell_type": "code",
   "execution_count": 14,
   "id": "10b5b435",
   "metadata": {},
   "outputs": [
    {
     "name": "stdout",
     "output_type": "stream",
     "text": [
      "79/79 [==============================] - 1s 8ms/step - loss: 0.1546 - accuracy: 0.9688\n",
      "Accuracy: 0.9688000082969666\n"
     ]
    }
   ],
   "source": [
    "# Evaluate the model on the test data\n",
    "loss, accuracy = model.evaluate(X_test, y_test_one_hot)\n",
    "\n",
    "# Print the accuracy\n",
    "print(\"Accuracy:\", accuracy)"
   ]
  },
  {
   "cell_type": "code",
   "execution_count": null,
   "id": "5d2197bb",
   "metadata": {},
   "outputs": [],
   "source": []
  }
 ],
 "metadata": {
  "kernelspec": {
   "display_name": "Python [conda env:.conda-intro-ml] *",
   "language": "python",
   "name": "conda-env-.conda-intro-ml-py"
  },
  "language_info": {
   "codemirror_mode": {
    "name": "ipython",
    "version": 3
   },
   "file_extension": ".py",
   "mimetype": "text/x-python",
   "name": "python",
   "nbconvert_exporter": "python",
   "pygments_lexer": "ipython3",
   "version": "3.11.2"
  }
 },
 "nbformat": 4,
 "nbformat_minor": 5
}
