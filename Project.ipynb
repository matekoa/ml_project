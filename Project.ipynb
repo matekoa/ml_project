{
 "cells": [
  {
   "cell_type": "code",
   "execution_count": 1,
   "id": "161affb8",
   "metadata": {},
   "outputs": [],
   "source": [
    "import os\n",
    "import numpy as np\n",
    "import cv2\n",
    "from sklearn.model_selection import train_test_split\n",
    "from sklearn.preprocessing import LabelEncoder\n",
    "from keras.utils import to_categorical\n",
    "from keras.models import Sequential\n",
    "from keras.layers import Conv2D, MaxPooling2D, Flatten, Dense, ReLU\n",
    "import keras"
   ]
  },
  {
   "cell_type": "code",
   "execution_count": 2,
   "id": "964a048e",
   "metadata": {},
   "outputs": [
    {
     "name": "stdout",
     "output_type": "stream",
     "text": [
      "Epoch 1/10\n",
      "235/235 [==============================] - 9s 31ms/step - loss: 3.6263 - accuracy: 0.2293 - val_loss: 1.6087 - val_accuracy: 0.1948\n",
      "Epoch 2/10\n",
      "235/235 [==============================] - 8s 35ms/step - loss: 1.5749 - accuracy: 0.2400 - val_loss: 1.5774 - val_accuracy: 0.2824\n",
      "Epoch 3/10\n",
      "235/235 [==============================] - 8s 32ms/step - loss: 1.4264 - accuracy: 0.3485 - val_loss: 1.3458 - val_accuracy: 0.4052\n",
      "Epoch 4/10\n",
      "235/235 [==============================] - 8s 35ms/step - loss: 1.1128 - accuracy: 0.5393 - val_loss: 0.8769 - val_accuracy: 0.6700\n",
      "Epoch 5/10\n",
      "235/235 [==============================] - 8s 36ms/step - loss: 0.7544 - accuracy: 0.6924 - val_loss: 0.7113 - val_accuracy: 0.7296\n",
      "Epoch 6/10\n",
      "235/235 [==============================] - 7s 32ms/step - loss: 0.4515 - accuracy: 0.8309 - val_loss: 0.3258 - val_accuracy: 0.8876\n",
      "Epoch 7/10\n",
      "235/235 [==============================] - 8s 34ms/step - loss: 0.1963 - accuracy: 0.9279 - val_loss: 0.2436 - val_accuracy: 0.9176\n",
      "Epoch 8/10\n",
      "235/235 [==============================] - 7s 31ms/step - loss: 0.1179 - accuracy: 0.9571 - val_loss: 0.1702 - val_accuracy: 0.9408\n",
      "Epoch 9/10\n",
      "235/235 [==============================] - 8s 32ms/step - loss: 0.0718 - accuracy: 0.9745 - val_loss: 0.1462 - val_accuracy: 0.9540\n",
      "Epoch 10/10\n",
      "235/235 [==============================] - 9s 39ms/step - loss: 0.0504 - accuracy: 0.9836 - val_loss: 0.1455 - val_accuracy: 0.9564\n"
     ]
    },
    {
     "data": {
      "text/plain": [
       "<keras.callbacks.History at 0x250c25d7250>"
      ]
     },
     "execution_count": 2,
     "metadata": {},
     "output_type": "execute_result"
    }
   ],
   "source": [
    "\n",
    "\n",
    "#Set the path to your train dataset directory\n",
    "dataset_path = './dataset/train'\n",
    "\n",
    "# Define the image size for resizing\n",
    "image_size = (32, 32)\n",
    "\n",
    "# Load and preprocess the dataset\n",
    "X_train = []\n",
    "y_train = []\n",
    "\n",
    "# Iterate through the shape directories in the dataset path\n",
    "for shape_dir in os.listdir(dataset_path):\n",
    "    shape_path = os.path.join(dataset_path, shape_dir)\n",
    "    if os.path.isdir(shape_path):\n",
    "        # Iterate through the images in each shape directory\n",
    "        for image_file in os.listdir(shape_path):\n",
    "            image_path = os.path.join(shape_path, image_file)\n",
    "            if image_path.endswith('.jpg'):\n",
    "                # Load the image and resize it to the desired size\n",
    "                image = cv2.imread(image_path)\n",
    "                image = cv2.resize(image, image_size)\n",
    "\n",
    "                # Append the preprocessed image and corresponding label\n",
    "                X_train.append(image)\n",
    "                y_train.append(shape_dir)\n",
    "\n",
    "# Convert the image data and labels to NumPy arrays\n",
    "X_train = np.array(X_train)\n",
    "y_train = np.array(y_train)\n",
    "\n",
    "classes = np.unique(y_train)\n",
    "\n",
    "#Set the path to your test dataset directory\n",
    "dataset_path = './dataset/test'\n",
    "\n",
    "# Load and preprocess the dataset\n",
    "X_test = []\n",
    "y_test = []\n",
    "\n",
    "# Iterate through the shape directories in the dataset path\n",
    "for shape_dir in os.listdir(dataset_path):\n",
    "    shape_path = os.path.join(dataset_path, shape_dir)\n",
    "    if os.path.isdir(shape_path):\n",
    "        # Iterate through the images in each shape directory\n",
    "        for image_file in os.listdir(shape_path):\n",
    "            image_path = os.path.join(shape_path, image_file)\n",
    "            if image_path.endswith('.jpg'):\n",
    "                # Load the image and resize it to the desired size\n",
    "                image = cv2.imread(image_path)\n",
    "                image = cv2.resize(image, image_size)\n",
    "\n",
    "                # Append the preprocessed image and corresponding label\n",
    "                X_test.append(image)\n",
    "                y_test.append(shape_dir)\n",
    "\n",
    "# Convert the image data and labels to NumPy arrays\n",
    "X_test = np.array(X_test)\n",
    "y_test = np.array(y_test)\n",
    "\n",
    "# Perform train-test split: This has already been done in the dataset\n",
    "#X_train, X_test, y_train, y_test = train_test_split(X_data, y_data, test_size=0.2, random_state=42)\n",
    "\n",
    "#Set the path to your Validation dataset directory\n",
    "dataset_path = './dataset/val'\n",
    "\n",
    "# Load and preprocess the dataset\n",
    "X_val = []\n",
    "y_val = []\n",
    "\n",
    "# Iterate through the shape directories in the dataset path\n",
    "for shape_dir in os.listdir(dataset_path):\n",
    "    shape_path = os.path.join(dataset_path, shape_dir)\n",
    "    if os.path.isdir(shape_path):\n",
    "        # Iterate through the images in each shape directory\n",
    "        for image_file in os.listdir(shape_path):\n",
    "            image_path = os.path.join(shape_path, image_file)\n",
    "            if image_path.endswith('.jpg'):\n",
    "                # Load the image and resize it to the desired size\n",
    "                image = cv2.imread(image_path)\n",
    "                image = cv2.resize(image, image_size)\n",
    "\n",
    "                # Append the preprocessed image and corresponding label\n",
    "                X_val.append(image)\n",
    "                y_val.append(shape_dir)\n",
    "\n",
    "# Convert the image data and labels to NumPy arrays\n",
    "X_val = np.array(X_val)\n",
    "y_val = np.array(y_val)\n",
    "\n",
    "\n",
    "# Encode the shape labels into numerical values\n",
    "label_encoder = LabelEncoder()\n",
    "y_train_encoded = label_encoder.fit_transform(y_train)\n",
    "y_val_encoded = label_encoder.transform(y_val)\n",
    "y_test_encoded = label_encoder.transform(y_test)\n",
    "\n",
    "# Convert the numerical labels to one-hot encoded vectors\n",
    "num_classes = len(label_encoder.classes_)\n",
    "y_train_one_hot = to_categorical(y_train_encoded, num_classes)\n",
    "y_val_one_hot = to_categorical(y_val_encoded, num_classes)\n",
    "y_test_one_hot = to_categorical(y_test_encoded, num_classes)\n",
    "\n",
    "# Create the CNN model\n",
    "model = Sequential()\n",
    "model.add(Conv2D(32, (3, 3), activation='relu', input_shape=(image_size[0], image_size[1], 3)))\n",
    "model.add(MaxPooling2D((2, 2)))\n",
    "model.add(Conv2D(64, (3, 3), activation='relu'))\n",
    "model.add(MaxPooling2D((2, 2)))\n",
    "model.add(Flatten())\n",
    "model.add(Dense(64))\n",
    "model.add(ReLU())\n",
    "model.add(Dense(num_classes, activation='softmax'))\n",
    "\n",
    "# Compile the model\n",
    "model.compile(optimizer='adam', loss='categorical_crossentropy', metrics=['accuracy'])\n",
    "\n",
    "# Train the model\n",
    "model.fit(X_train, y_train_one_hot, epochs=10, batch_size=32, validation_data=(X_val, y_val_one_hot))\n"
   ]
  },
  {
   "cell_type": "markdown",
   "id": "b872b343",
   "metadata": {},
   "source": [
    "# Check Predicted Shape"
   ]
  },
  {
   "cell_type": "code",
   "execution_count": 3,
   "id": "4cd1a7f3",
   "metadata": {},
   "outputs": [
    {
     "name": "stdout",
     "output_type": "stream",
     "text": [
      "./dataset/new/newshape1.jpg\n",
      "1/1 [==============================] - 0s 252ms/step\n",
      "./dataset/new/newshape2.jpg\n",
      "1/1 [==============================] - 0s 43ms/step\n",
      "./dataset/new/newshape3.jpg\n",
      "1/1 [==============================] - 0s 49ms/step\n",
      "./dataset/new/newshape4.jpg\n",
      "1/1 [==============================] - 0s 40ms/step\n",
      "./dataset/new/newshape5.jpg\n",
      "1/1 [==============================] - 0s 42ms/step\n",
      "./dataset/new/newshape6.jpg\n",
      "1/1 [==============================] - 0s 39ms/step\n",
      "./dataset/new/newshape7.jpg\n",
      "1/1 [==============================] - 0s 47ms/step\n",
      "./dataset/new/newshape8.jpg\n",
      "1/1 [==============================] - 0s 48ms/step\n",
      "./dataset/new/newshape9.jpg\n",
      "1/1 [==============================] - 0s 42ms/step\n",
      "./dataset/new/newshape10.jpg\n",
      "1/1 [==============================] - 0s 45ms/step\n",
      "Predicted label: ['triangle']\n",
      "Predicted label: ['circle']\n",
      "Predicted label: ['trapezoid']\n",
      "Predicted label: ['trapezoid']\n",
      "Predicted label: ['rectangle']\n",
      "Predicted label: ['triangle']\n",
      "Predicted label: ['rectangle']\n",
      "Predicted label: ['triangle']\n",
      "Predicted label: ['rectangle']\n",
      "Predicted label: ['circle']\n"
     ]
    }
   ],
   "source": [
    "#Set the path to your test dataset directory\n",
    "image_path = './dataset/new/'\n",
    "predicted_labels = []\n",
    "# Define a new data point to classify\n",
    "for i in range(10):\n",
    "    j = i+1\n",
    "    temp = os.path.join(image_path, 'newshape' +str(j)+'.jpg') #Current Image\n",
    "    print(temp)\n",
    "    \n",
    "    new_data = np.array([cv2.resize(cv2.imread(temp), image_size)])\n",
    "\n",
    "    # Predict the label for the new data point\n",
    "    predicted_probabilities = model.predict(new_data)\n",
    "    predicted_labels.append(label_encoder.inverse_transform(np.argmax(predicted_probabilities, axis=1)))\n",
    "\n",
    "# Iterate over the predicted labels\n",
    "for predicted_label in predicted_labels:\n",
    "    # Check if the predicted label exists in the list of available classes\n",
    "    if predicted_label in classes:\n",
    "        # Print the predicted label if it exists in the classes list\n",
    "        print(\"Predicted label:\", predicted_label)\n",
    "    else:\n",
    "        # Print \"unmatched\" if the predicted label does not match any class\n",
    "        print(\"Unmatched\")"
   ]
  },
  {
   "cell_type": "code",
   "execution_count": 4,
   "id": "2dfb745d",
   "metadata": {},
   "outputs": [
    {
     "name": "stdout",
     "output_type": "stream",
     "text": [
      "['circle' 'parallelogram' 'rectangle' 'trapezoid' 'triangle']\n"
     ]
    }
   ],
   "source": [
    "print(classes)"
   ]
  },
  {
   "cell_type": "code",
   "execution_count": 5,
   "id": "03c373b7",
   "metadata": {},
   "outputs": [
    {
     "name": "stdout",
     "output_type": "stream",
     "text": [
      "79/79 [==============================] - 1s 15ms/step - loss: 0.1748 - accuracy: 0.9480\n",
      "Accuracy: 0.9480000138282776\n"
     ]
    }
   ],
   "source": [
    "# Evaluate the model on the test data\n",
    "loss, accuracy = model.evaluate(X_test, y_test_one_hot)\n",
    "\n",
    "# Print the accuracy\n",
    "print(\"Accuracy:\", accuracy)"
   ]
  },
  {
   "cell_type": "markdown",
   "id": "e9545519",
   "metadata": {},
   "source": [
    "# Training Model Using A tanh Activation In The Hidden Layer"
   ]
  },
  {
   "cell_type": "code",
   "execution_count": 6,
   "id": "9ccdf49c",
   "metadata": {},
   "outputs": [
    {
     "name": "stdout",
     "output_type": "stream",
     "text": [
      "Epoch 1/10\n",
      "235/235 [==============================] - 11s 41ms/step - loss: 1.6569 - accuracy: 0.2288 - val_loss: 1.5476 - val_accuracy: 0.2732\n",
      "Epoch 2/10\n",
      "235/235 [==============================] - 10s 43ms/step - loss: 1.6066 - accuracy: 0.2075 - val_loss: 1.6095 - val_accuracy: 0.2000\n",
      "Epoch 3/10\n",
      "235/235 [==============================] - 9s 40ms/step - loss: 1.6096 - accuracy: 0.1979 - val_loss: 1.6094 - val_accuracy: 0.2000\n",
      "Epoch 4/10\n",
      "235/235 [==============================] - 7s 29ms/step - loss: 1.6096 - accuracy: 0.1980 - val_loss: 1.6094 - val_accuracy: 0.2000\n",
      "Epoch 5/10\n",
      "235/235 [==============================] - 7s 31ms/step - loss: 1.6096 - accuracy: 0.1896 - val_loss: 1.6094 - val_accuracy: 0.2000\n",
      "Epoch 6/10\n",
      "235/235 [==============================] - 7s 30ms/step - loss: 1.6096 - accuracy: 0.1960 - val_loss: 1.6094 - val_accuracy: 0.2000\n",
      "Epoch 7/10\n",
      "235/235 [==============================] - 7s 30ms/step - loss: 1.6096 - accuracy: 0.1873 - val_loss: 1.6094 - val_accuracy: 0.2000\n",
      "Epoch 8/10\n",
      "235/235 [==============================] - 7s 31ms/step - loss: 1.6096 - accuracy: 0.1907 - val_loss: 1.6094 - val_accuracy: 0.2000\n",
      "Epoch 9/10\n",
      "235/235 [==============================] - 8s 33ms/step - loss: 1.6096 - accuracy: 0.1876 - val_loss: 1.6094 - val_accuracy: 0.2000\n",
      "Epoch 10/10\n",
      "235/235 [==============================] - 7s 31ms/step - loss: 1.6096 - accuracy: 0.1959 - val_loss: 1.6094 - val_accuracy: 0.2000\n"
     ]
    },
    {
     "data": {
      "text/plain": [
       "<keras.callbacks.History at 0x250c6dd4210>"
      ]
     },
     "execution_count": 6,
     "metadata": {},
     "output_type": "execute_result"
    }
   ],
   "source": [
    "# Create the CNN model\n",
    "model = Sequential()\n",
    "model.add(Conv2D(32, (3, 3), activation='relu', input_shape=(image_size[0], image_size[1], 3)))\n",
    "model.add(MaxPooling2D((2, 2)))\n",
    "model.add(Conv2D(64, (3, 3), activation='tanh'))\n",
    "model.add(MaxPooling2D((2, 2)))\n",
    "model.add(Flatten())\n",
    "model.add(Dense(64))\n",
    "model.add(ReLU())\n",
    "model.add(Dense(num_classes, activation='softmax'))\n",
    "\n",
    "# Compile the model\n",
    "model.compile(optimizer='adam', loss='categorical_crossentropy', metrics=['accuracy'])\n",
    "\n",
    "# Train the model\n",
    "model.fit(X_train, y_train_one_hot, epochs=10, batch_size=32, validation_data=(X_val, y_val_one_hot))"
   ]
  },
  {
   "cell_type": "markdown",
   "id": "6471e63e",
   "metadata": {},
   "source": [
    "# Predict"
   ]
  },
  {
   "cell_type": "code",
   "execution_count": 7,
   "id": "504aa62d",
   "metadata": {},
   "outputs": [
    {
     "name": "stdout",
     "output_type": "stream",
     "text": [
      "./dataset/new/newshape1.jpg\n",
      "1/1 [==============================] - 0s 126ms/step\n",
      "./dataset/new/newshape2.jpg\n",
      "1/1 [==============================] - 0s 34ms/step\n",
      "./dataset/new/newshape3.jpg\n",
      "1/1 [==============================] - 0s 29ms/step\n",
      "./dataset/new/newshape4.jpg\n",
      "1/1 [==============================] - 0s 33ms/step\n",
      "./dataset/new/newshape5.jpg\n",
      "1/1 [==============================] - 0s 25ms/step\n",
      "./dataset/new/newshape6.jpg\n",
      "1/1 [==============================] - 0s 28ms/step\n",
      "./dataset/new/newshape7.jpg\n",
      "1/1 [==============================] - 0s 30ms/step\n",
      "./dataset/new/newshape8.jpg\n",
      "1/1 [==============================] - 0s 42ms/step\n",
      "./dataset/new/newshape9.jpg\n",
      "1/1 [==============================] - 0s 27ms/step\n",
      "./dataset/new/newshape10.jpg\n",
      "1/1 [==============================] - 0s 35ms/step\n",
      "Predicted label: ['circle']\n",
      "Predicted label: ['circle']\n",
      "Predicted label: ['circle']\n",
      "Predicted label: ['circle']\n",
      "Predicted label: ['circle']\n",
      "Predicted label: ['circle']\n",
      "Predicted label: ['circle']\n",
      "Predicted label: ['circle']\n",
      "Predicted label: ['circle']\n",
      "Predicted label: ['circle']\n"
     ]
    }
   ],
   "source": [
    "#Set the path to your test dataset directory\n",
    "image_path = './dataset/new/'\n",
    "predicted_labels = []\n",
    "# Define a new data point to classify\n",
    "for i in range(10):\n",
    "    j = i+1\n",
    "    temp = os.path.join(image_path, 'newshape' +str(j)+'.jpg') #Current Image\n",
    "    print(temp)\n",
    "    \n",
    "    new_data = np.array([cv2.resize(cv2.imread(temp), image_size)])\n",
    "\n",
    "    # Predict the label for the new data point\n",
    "    predicted_probabilities = model.predict(new_data)\n",
    "    predicted_labels.append(label_encoder.inverse_transform(np.argmax(predicted_probabilities, axis=1)))\n",
    "\n",
    "# Iterate over the predicted labels\n",
    "for predicted_label in predicted_labels:\n",
    "    # Check if the predicted label exists in the list of available classes\n",
    "    if predicted_label in classes:\n",
    "        # Print the predicted label if it exists in the classes list\n",
    "        print(\"Predicted label:\", predicted_label)\n",
    "    else:\n",
    "        # Print \"unmatched\" if the predicted label does not match any class\n",
    "        print(\"Unmatched\")"
   ]
  },
  {
   "cell_type": "code",
   "execution_count": 8,
   "id": "0f63b2f6",
   "metadata": {},
   "outputs": [
    {
     "name": "stdout",
     "output_type": "stream",
     "text": [
      "79/79 [==============================] - 1s 9ms/step - loss: 1.6094 - accuracy: 0.2000\n",
      "Accuracy: 0.20000000298023224\n"
     ]
    }
   ],
   "source": [
    "# Evaluate the model on the test data\n",
    "loss, accuracy = model.evaluate(X_test, y_test_one_hot)\n",
    "\n",
    "# Print the accuracy\n",
    "print(\"Accuracy:\", accuracy)"
   ]
  },
  {
   "cell_type": "markdown",
   "id": "5a07cadc",
   "metadata": {},
   "source": [
    "# Training Model Using A Sigmoid Activation In The Output Layer"
   ]
  },
  {
   "cell_type": "code",
   "execution_count": 9,
   "id": "ad4e1006",
   "metadata": {},
   "outputs": [
    {
     "name": "stdout",
     "output_type": "stream",
     "text": [
      "Epoch 1/10\n",
      "235/235 [==============================] - 9s 35ms/step - loss: 5.5017 - accuracy: 0.4899 - val_loss: 0.4938 - val_accuracy: 0.8164\n",
      "Epoch 2/10\n",
      "235/235 [==============================] - 8s 35ms/step - loss: 0.3205 - accuracy: 0.8849 - val_loss: 0.2486 - val_accuracy: 0.9144\n",
      "Epoch 3/10\n",
      "235/235 [==============================] - 8s 35ms/step - loss: 0.1468 - accuracy: 0.9476 - val_loss: 0.1700 - val_accuracy: 0.9460\n",
      "Epoch 4/10\n",
      "235/235 [==============================] - 8s 35ms/step - loss: 0.1142 - accuracy: 0.9552 - val_loss: 0.2020 - val_accuracy: 0.9320\n",
      "Epoch 5/10\n",
      "235/235 [==============================] - 7s 29ms/step - loss: 0.0826 - accuracy: 0.9688 - val_loss: 0.1391 - val_accuracy: 0.9556\n",
      "Epoch 6/10\n",
      "235/235 [==============================] - 10s 42ms/step - loss: 0.0572 - accuracy: 0.9784 - val_loss: 0.1268 - val_accuracy: 0.9556\n",
      "Epoch 7/10\n",
      "235/235 [==============================] - 9s 37ms/step - loss: 0.0497 - accuracy: 0.9816 - val_loss: 0.1311 - val_accuracy: 0.9652\n",
      "Epoch 8/10\n",
      "235/235 [==============================] - 9s 36ms/step - loss: 0.0310 - accuracy: 0.9891 - val_loss: 0.1227 - val_accuracy: 0.9640\n",
      "Epoch 9/10\n",
      "235/235 [==============================] - 8s 35ms/step - loss: 0.0525 - accuracy: 0.9844 - val_loss: 0.1409 - val_accuracy: 0.9596\n",
      "Epoch 10/10\n",
      "235/235 [==============================] - 10s 42ms/step - loss: 0.0466 - accuracy: 0.9843 - val_loss: 0.1734 - val_accuracy: 0.9556\n"
     ]
    },
    {
     "data": {
      "text/plain": [
       "<keras.callbacks.History at 0x250c70ced10>"
      ]
     },
     "execution_count": 9,
     "metadata": {},
     "output_type": "execute_result"
    }
   ],
   "source": [
    "# Create the CNN model\n",
    "model = Sequential()\n",
    "model.add(Conv2D(32, (3, 3), activation='relu', input_shape=(image_size[0], image_size[1], 3)))\n",
    "model.add(MaxPooling2D((2, 2)))\n",
    "model.add(Conv2D(64, (3, 3), activation='relu'))\n",
    "model.add(MaxPooling2D((2, 2)))\n",
    "model.add(Flatten())\n",
    "model.add(Dense(64))\n",
    "model.add(ReLU())\n",
    "model.add(Dense(num_classes, activation='sigmoid'))\n",
    "\n",
    "# Compile the model\n",
    "model.compile(optimizer='adam', loss='categorical_crossentropy', metrics=['accuracy'])\n",
    "\n",
    "# Train the model\n",
    "model.fit(X_train, y_train_one_hot, epochs=10, batch_size=32, validation_data=(X_val, y_val_one_hot))"
   ]
  },
  {
   "cell_type": "code",
   "execution_count": 10,
   "id": "1a84fb28",
   "metadata": {},
   "outputs": [
    {
     "name": "stdout",
     "output_type": "stream",
     "text": [
      "./dataset/new/newshape1.jpg\n",
      "1/1 [==============================] - 0s 166ms/step\n",
      "./dataset/new/newshape2.jpg\n",
      "1/1 [==============================] - 0s 40ms/step\n",
      "./dataset/new/newshape3.jpg\n",
      "1/1 [==============================] - 0s 44ms/step\n",
      "./dataset/new/newshape4.jpg\n",
      "1/1 [==============================] - 0s 47ms/step\n",
      "./dataset/new/newshape5.jpg\n",
      "1/1 [==============================] - 0s 40ms/step\n",
      "./dataset/new/newshape6.jpg\n",
      "1/1 [==============================] - 0s 40ms/step\n",
      "./dataset/new/newshape7.jpg\n",
      "1/1 [==============================] - 0s 45ms/step\n",
      "./dataset/new/newshape8.jpg\n",
      "1/1 [==============================] - 0s 46ms/step\n",
      "./dataset/new/newshape9.jpg\n",
      "1/1 [==============================] - 0s 40ms/step\n",
      "./dataset/new/newshape10.jpg\n",
      "1/1 [==============================] - 0s 41ms/step\n",
      "Predicted label: ['trapezoid']\n",
      "Predicted label: ['circle']\n",
      "Predicted label: ['trapezoid']\n",
      "Predicted label: ['parallelogram']\n",
      "Predicted label: ['rectangle']\n",
      "Predicted label: ['triangle']\n",
      "Predicted label: ['rectangle']\n",
      "Predicted label: ['triangle']\n",
      "Predicted label: ['rectangle']\n",
      "Predicted label: ['circle']\n"
     ]
    }
   ],
   "source": [
    "predicted_labels = []\n",
    "# Define a new data point to classify\n",
    "for i in range(10):\n",
    "    j = i+1\n",
    "    temp = os.path.join(image_path, 'newshape' +str(j)+'.jpg') #Current Image\n",
    "    print(temp)\n",
    "    \n",
    "    new_data = np.array([cv2.resize(cv2.imread(temp), image_size)])\n",
    "\n",
    "    # Predict the label for the new data point\n",
    "    predicted_probabilities = model.predict(new_data)\n",
    "    predicted_labels.append(label_encoder.inverse_transform(np.argmax(predicted_probabilities, axis=1)))\n",
    "\n",
    "# Iterate over the predicted labels\n",
    "for predicted_label in predicted_labels:\n",
    "    # Check if the predicted label exists in the list of available classes\n",
    "    if predicted_label in classes:\n",
    "        # Print the predicted label if it exists in the classes list\n",
    "        print(\"Predicted label:\", predicted_label)\n",
    "    else:\n",
    "        # Print \"unmatched\" if the predicted label does not match any class\n",
    "        print(\"Unmatched\")"
   ]
  },
  {
   "cell_type": "code",
   "execution_count": 11,
   "id": "5761f0c8",
   "metadata": {},
   "outputs": [
    {
     "name": "stdout",
     "output_type": "stream",
     "text": [
      "79/79 [==============================] - 1s 10ms/step - loss: 0.1574 - accuracy: 0.9676\n",
      "Accuracy: 0.9675999879837036\n"
     ]
    }
   ],
   "source": [
    "# Evaluate the model on the test data\n",
    "loss, accuracy = model.evaluate(X_test, y_test_one_hot)\n",
    "\n",
    "# Print the accuracy\n",
    "print(\"Accuracy:\", accuracy)"
   ]
  },
  {
   "cell_type": "markdown",
   "id": "09fc9ce9",
   "metadata": {},
   "source": [
    "# Initial Model Using ReLU in Input and Hidden Layer But Varied Epoch and Batch Size"
   ]
  },
  {
   "cell_type": "markdown",
   "id": "511858df",
   "metadata": {},
   "source": [
    "The optimizer learning rate is changed."
   ]
  },
  {
   "cell_type": "code",
   "execution_count": 12,
   "id": "03f56302",
   "metadata": {},
   "outputs": [
    {
     "name": "stdout",
     "output_type": "stream",
     "text": [
      "Epoch 1/32\n",
      "118/118 [==============================] - 10s 69ms/step - loss: 6.5607 - accuracy: 0.4140 - val_loss: 0.6962 - val_accuracy: 0.7376\n",
      "Epoch 2/32\n",
      "118/118 [==============================] - 8s 67ms/step - loss: 0.4249 - accuracy: 0.8484 - val_loss: 0.3004 - val_accuracy: 0.8940\n",
      "Epoch 3/32\n",
      "118/118 [==============================] - 9s 73ms/step - loss: 0.1807 - accuracy: 0.9407 - val_loss: 0.2123 - val_accuracy: 0.9308\n",
      "Epoch 4/32\n",
      "118/118 [==============================] - 7s 55ms/step - loss: 0.1017 - accuracy: 0.9640 - val_loss: 0.1637 - val_accuracy: 0.9504\n",
      "Epoch 5/32\n",
      "118/118 [==============================] - 6s 52ms/step - loss: 0.0600 - accuracy: 0.9764 - val_loss: 0.1653 - val_accuracy: 0.9472\n",
      "Epoch 6/32\n",
      "118/118 [==============================] - 6s 51ms/step - loss: 0.0444 - accuracy: 0.9843 - val_loss: 0.1367 - val_accuracy: 0.9636\n",
      "Epoch 7/32\n",
      "118/118 [==============================] - 7s 55ms/step - loss: 0.0302 - accuracy: 0.9901 - val_loss: 0.1421 - val_accuracy: 0.9600\n",
      "Epoch 8/32\n",
      "118/118 [==============================] - 7s 63ms/step - loss: 0.0153 - accuracy: 0.9952 - val_loss: 0.1268 - val_accuracy: 0.9640\n",
      "Epoch 9/32\n",
      "118/118 [==============================] - 8s 66ms/step - loss: 0.0118 - accuracy: 0.9979 - val_loss: 0.1417 - val_accuracy: 0.9608\n",
      "Epoch 10/32\n",
      "118/118 [==============================] - 7s 56ms/step - loss: 0.0057 - accuracy: 0.9993 - val_loss: 0.1193 - val_accuracy: 0.9692\n",
      "Epoch 11/32\n",
      "118/118 [==============================] - 7s 60ms/step - loss: 0.0026 - accuracy: 1.0000 - val_loss: 0.1148 - val_accuracy: 0.9732\n",
      "Epoch 12/32\n",
      "118/118 [==============================] - 7s 62ms/step - loss: 0.0017 - accuracy: 1.0000 - val_loss: 0.1122 - val_accuracy: 0.9736\n",
      "Epoch 13/32\n",
      "118/118 [==============================] - 8s 63ms/step - loss: 0.0012 - accuracy: 0.9999 - val_loss: 0.1245 - val_accuracy: 0.9708\n",
      "Epoch 14/32\n",
      "118/118 [==============================] - 8s 68ms/step - loss: 0.0015 - accuracy: 0.9999 - val_loss: 0.1196 - val_accuracy: 0.9740\n",
      "Epoch 15/32\n",
      "118/118 [==============================] - 8s 69ms/step - loss: 6.7972e-04 - accuracy: 1.0000 - val_loss: 0.1162 - val_accuracy: 0.9744\n",
      "Epoch 16/32\n",
      "118/118 [==============================] - 6s 55ms/step - loss: 5.4696e-04 - accuracy: 1.0000 - val_loss: 0.1170 - val_accuracy: 0.9752\n",
      "Epoch 17/32\n",
      "118/118 [==============================] - 8s 64ms/step - loss: 4.2766e-04 - accuracy: 1.0000 - val_loss: 0.1187 - val_accuracy: 0.9740\n",
      "Epoch 18/32\n",
      "118/118 [==============================] - 7s 57ms/step - loss: 3.5545e-04 - accuracy: 1.0000 - val_loss: 0.1198 - val_accuracy: 0.9740\n",
      "Epoch 19/32\n",
      "118/118 [==============================] - 7s 56ms/step - loss: 3.1022e-04 - accuracy: 1.0000 - val_loss: 0.1216 - val_accuracy: 0.9732\n",
      "Epoch 20/32\n",
      "118/118 [==============================] - 7s 61ms/step - loss: 2.6677e-04 - accuracy: 1.0000 - val_loss: 0.1259 - val_accuracy: 0.9744\n",
      "Epoch 21/32\n",
      "118/118 [==============================] - 7s 60ms/step - loss: 2.3711e-04 - accuracy: 1.0000 - val_loss: 0.1226 - val_accuracy: 0.9748\n",
      "Epoch 22/32\n",
      "118/118 [==============================] - 8s 68ms/step - loss: 1.9348e-04 - accuracy: 1.0000 - val_loss: 0.1245 - val_accuracy: 0.9744\n",
      "Epoch 23/32\n",
      "118/118 [==============================] - 8s 67ms/step - loss: 1.7464e-04 - accuracy: 1.0000 - val_loss: 0.1237 - val_accuracy: 0.9748\n",
      "Epoch 24/32\n",
      "118/118 [==============================] - 8s 64ms/step - loss: 1.4782e-04 - accuracy: 1.0000 - val_loss: 0.1283 - val_accuracy: 0.9728\n",
      "Epoch 25/32\n",
      "118/118 [==============================] - 8s 67ms/step - loss: 1.2769e-04 - accuracy: 1.0000 - val_loss: 0.1252 - val_accuracy: 0.9740\n",
      "Epoch 26/32\n",
      "118/118 [==============================] - 8s 66ms/step - loss: 1.1062e-04 - accuracy: 1.0000 - val_loss: 0.1286 - val_accuracy: 0.9744\n",
      "Epoch 27/32\n",
      "118/118 [==============================] - 7s 63ms/step - loss: 8.9353e-05 - accuracy: 1.0000 - val_loss: 0.1287 - val_accuracy: 0.9736\n",
      "Epoch 28/32\n",
      "118/118 [==============================] - 6s 53ms/step - loss: 7.6369e-05 - accuracy: 1.0000 - val_loss: 0.1328 - val_accuracy: 0.9724\n",
      "Epoch 29/32\n",
      "118/118 [==============================] - 8s 67ms/step - loss: 6.4681e-05 - accuracy: 1.0000 - val_loss: 0.1305 - val_accuracy: 0.9728\n",
      "Epoch 30/32\n",
      "118/118 [==============================] - 6s 55ms/step - loss: 5.6616e-05 - accuracy: 1.0000 - val_loss: 0.1376 - val_accuracy: 0.9716\n",
      "Epoch 31/32\n",
      "118/118 [==============================] - 6s 54ms/step - loss: 4.9646e-05 - accuracy: 1.0000 - val_loss: 0.1407 - val_accuracy: 0.9716\n",
      "Epoch 32/32\n",
      "118/118 [==============================] - 6s 50ms/step - loss: 4.4592e-05 - accuracy: 1.0000 - val_loss: 0.1407 - val_accuracy: 0.9720\n"
     ]
    },
    {
     "data": {
      "text/plain": [
       "<keras.callbacks.History at 0x250c71cfb90>"
      ]
     },
     "execution_count": 12,
     "metadata": {},
     "output_type": "execute_result"
    }
   ],
   "source": [
    "# Create the CNN model\n",
    "model = Sequential()\n",
    "model.add(Conv2D(32, (3, 3), activation='relu', input_shape=(image_size[0], image_size[1], 3)))\n",
    "model.add(MaxPooling2D((2, 2)))\n",
    "model.add(Conv2D(64, (3, 3), activation='relu'))\n",
    "model.add(MaxPooling2D((2, 2)))\n",
    "model.add(Flatten())\n",
    "model.add(Dense(64))\n",
    "model.add(ReLU())\n",
    "model.add(Dense(num_classes, activation='softmax'))\n",
    "\n",
    "# Compile the model\n",
    "#opt = keras.optimizers.Adam(learning_rate=0.01)\n",
    "model.compile(optimizer='adam', loss='categorical_crossentropy', metrics=['accuracy'])\n",
    "\n",
    "# Train the model\n",
    "model.fit(X_train, y_train_one_hot, epochs=32, batch_size=64, validation_data=(X_val, y_val_one_hot))"
   ]
  },
  {
   "cell_type": "markdown",
   "id": "21d921e8",
   "metadata": {},
   "source": [
    "# Predict"
   ]
  },
  {
   "cell_type": "code",
   "execution_count": 13,
   "id": "e111a2e0",
   "metadata": {},
   "outputs": [
    {
     "name": "stdout",
     "output_type": "stream",
     "text": [
      "./dataset/new/newshape1.jpg\n",
      "1/1 [==============================] - 0s 103ms/step\n",
      "./dataset/new/newshape2.jpg\n",
      "1/1 [==============================] - 0s 28ms/step\n",
      "./dataset/new/newshape3.jpg\n",
      "1/1 [==============================] - 0s 27ms/step\n",
      "./dataset/new/newshape4.jpg\n",
      "1/1 [==============================] - 0s 25ms/step\n",
      "./dataset/new/newshape5.jpg\n",
      "1/1 [==============================] - 0s 27ms/step\n",
      "./dataset/new/newshape6.jpg\n",
      "1/1 [==============================] - 0s 31ms/step\n",
      "./dataset/new/newshape7.jpg\n",
      "1/1 [==============================] - 0s 30ms/step\n",
      "./dataset/new/newshape8.jpg\n",
      "1/1 [==============================] - 0s 23ms/step\n",
      "./dataset/new/newshape9.jpg\n",
      "1/1 [==============================] - 0s 27ms/step\n",
      "./dataset/new/newshape10.jpg\n",
      "1/1 [==============================] - 0s 28ms/step\n",
      "Predicted label: ['triangle']\n",
      "Predicted label: ['circle']\n",
      "Predicted label: ['trapezoid']\n",
      "Predicted label: ['parallelogram']\n",
      "Predicted label: ['rectangle']\n",
      "Predicted label: ['triangle']\n",
      "Predicted label: ['rectangle']\n",
      "Predicted label: ['trapezoid']\n",
      "Predicted label: ['rectangle']\n",
      "Predicted label: ['circle']\n"
     ]
    }
   ],
   "source": [
    "predicted_labels = []\n",
    "# Define a new data point to classify\n",
    "for i in range(10):\n",
    "    j = i+1\n",
    "    temp = os.path.join(image_path, 'newshape' +str(j)+'.jpg') #Current Image\n",
    "    print(temp)\n",
    "    \n",
    "    new_data = np.array([cv2.resize(cv2.imread(temp), image_size)])\n",
    "\n",
    "    # Predict the label for the new data point\n",
    "    predicted_probabilities = model.predict(new_data)\n",
    "    predicted_labels.append(label_encoder.inverse_transform(np.argmax(predicted_probabilities, axis=1)))\n",
    "\n",
    "# Iterate over the predicted labels\n",
    "for predicted_label in predicted_labels:\n",
    "    # Check if the predicted label exists in the list of available classes\n",
    "    if predicted_label in classes:\n",
    "        # Print the predicted label if it exists in the classes list\n",
    "        print(\"Predicted label:\", predicted_label)\n",
    "    else:\n",
    "        # Print \"unmatched\" if the predicted label does not match any class\n",
    "        print(\"Unmatched\")"
   ]
  },
  {
   "cell_type": "code",
   "execution_count": 14,
   "id": "10b5b435",
   "metadata": {},
   "outputs": [
    {
     "name": "stdout",
     "output_type": "stream",
     "text": [
      "79/79 [==============================] - 1s 8ms/step - loss: 0.1328 - accuracy: 0.9720\n",
      "Accuracy: 0.972000002861023\n"
     ]
    }
   ],
   "source": [
    "# Evaluate the model on the test data\n",
    "loss, accuracy = model.evaluate(X_test, y_test_one_hot)\n",
    "\n",
    "# Print the accuracy\n",
    "print(\"Accuracy:\", accuracy)"
   ]
  },
  {
   "cell_type": "code",
   "execution_count": null,
   "id": "5d2197bb",
   "metadata": {},
   "outputs": [],
   "source": []
  }
 ],
 "metadata": {
  "kernelspec": {
   "display_name": "Python [conda env:.conda-intro-ml] *",
   "language": "python",
   "name": "conda-env-.conda-intro-ml-py"
  },
  "language_info": {
   "codemirror_mode": {
    "name": "ipython",
    "version": 3
   },
   "file_extension": ".py",
   "mimetype": "text/x-python",
   "name": "python",
   "nbconvert_exporter": "python",
   "pygments_lexer": "ipython3",
   "version": "3.11.2"
  }
 },
 "nbformat": 4,
 "nbformat_minor": 5
}
